{
 "cells": [
  {
   "cell_type": "code",
   "execution_count": 15,
   "id": "09c0b67f",
   "metadata": {},
   "outputs": [
    {
     "name": "stdout",
     "output_type": "stream",
     "text": [
      "The autoreload extension is already loaded. To reload it, use:\n",
      "  %reload_ext autoreload\n"
     ]
    }
   ],
   "source": [
    "%load_ext autoreload\n",
    "%autoreload 2\n",
    "\n",
    "from config import SniffBat2Dataset\n",
    "import os\n",
    "from ultralytics import YOLO\n",
    "\n",
    "import torch\n",
    "import decord\n",
    "from decord import VideoReader\n",
    "import numpy as np\n",
    "import cv2\n",
    "import os\n",
    "from tqdm import tqdm\n",
    "import pandas as pd\n",
    "import pathlib"
   ]
  },
  {
   "cell_type": "code",
   "execution_count": 27,
   "id": "35182c39",
   "metadata": {},
   "outputs": [],
   "source": [
    "def ir_marker_inference(model, bat_id, date, video_paths, out_dir = None):\n",
    "    \"\"\"\n",
    "    Run inference on set of videos\n",
    "\n",
    "    Parameters\n",
    "    ----------\n",
    "    bat_id : string\n",
    "        bat ID\n",
    "\n",
    "    date : string\n",
    "        YYMMDD\n",
    "\n",
    "    video_paths : dict , key = <view_name> | value = path_to_video\n",
    "        Dictionary containing name of each camera view as keys and paths to video file of said camera view as values\n",
    "        E.g.) {'bottom': \"path/to/bottom.mp4\", 'top': \"path/to/top.mp4\", 'side': \"path/to/side.mp4\"}\n",
    "\n",
    "    out_dir : [Optional] string\n",
    "        Output directory to save inference results. If out_dir == None, results are returned by the function but not saved to disk.\n",
    "\n",
    "    Returns\n",
    "    -------\n",
    "    pandas DataFrame containing detections in all frames of all videos\n",
    "\n",
    "    \"\"\"\n",
    "\n",
    "    detection_list = []\n",
    "    for view in video_paths:\n",
    "        fpath = video_paths[view]\n",
    "        print(fpath)\n",
    "        vr = VideoReader(fpath)\n",
    "        video_length = len(vr)\n",
    "        print(video_length)\n",
    "        decord.bridge.set_bridge('torch')\n",
    "\n",
    "\n",
    "        for fnum in tqdm(range(video_length)):\n",
    "            frame = np.array(vr[fnum])\n",
    "\n",
    "            res = model.predict(source=frame, rect=False, imgsz=800, verbose=False, augment=False)\n",
    "\n",
    "            boxes = res[0].cpu().boxes.data.numpy()\n",
    "            xyxy = boxes[:,:4]\n",
    "            conf = boxes[:,4]\n",
    "            label = boxes[:,5]\n",
    "\n",
    "            res_df = pd.DataFrame(boxes, columns=['xmin','ymin','xmax','ymax','confidence','class'])\n",
    "            num_detections = res_df.shape[0]\n",
    "            res_df['frame'] = [int(fnum)]*num_detections\n",
    "            res_df['path'] = [fpath]*num_detections\n",
    "            res_df['view'] = [view]*num_detections\n",
    "            res_df['date'] = [date]*num_detections\n",
    "            res_df['bat_id'] = [bat_id]*num_detections\n",
    "\n",
    "            dets = res_df.to_dict(orient=\"records\")\n",
    "\n",
    "            detection_list += dets\n",
    "\n",
    "    df = pd.DataFrame(detection_list, columns = ['date',\n",
    "                             'bat_id',\n",
    "                             'view',\n",
    "                             'frame',\n",
    "                             'xmin',\n",
    "                             'ymin',\n",
    "                             'xmax',\n",
    "                             'ymax',\n",
    "                             'confidence',\n",
    "                             'class',\n",
    "                             'name',\n",
    "                             'path'])\n",
    "\n",
    "    if(out_dir):\n",
    "        pathlib.Path(out_dir).mkdir(parents=True,exist_ok=True)\n",
    "        df.to_csv(os.path.join(out_dir,'ir_marker_detections.csv'))\n",
    "\n",
    "    return df\n"
   ]
  },
  {
   "cell_type": "code",
   "execution_count": 17,
   "id": "4ba84083",
   "metadata": {
    "tags": [
     "parameters"
    ]
   },
   "outputs": [],
   "source": [
    "date = '230910'\n",
    "bat_id = '32623'"
   ]
  },
  {
   "cell_type": "code",
   "execution_count": 18,
   "id": "d75e870c",
   "metadata": {},
   "outputs": [
    {
     "name": "stdout",
     "output_type": "stream",
     "text": [
      "['Basler_acA2040-55um__24260140__20230910_152706385.mp4']\n",
      "['Basler_acA2040-55um__23584894__20230910_152705354.mp4']\n",
      "['Basler_a2A1920-160umBAS__40243954__20230910_152702270.mp4']\n",
      "['Basler_acA800-510um__23521662__20230910_152710140.mp4']\n",
      "['Basler_acA800-510um__23354674__20230910_152707517.mp4']\n",
      "['Basler_a2A1920-160umBAS__40243958__20230910_152703353.mp4']\n",
      "['Basler_acA800-510um__23521660__20230910_152708733.mp4']\n",
      "['Basler_a2A1920-160umBAS__40243959__20230910_152704276.mp4']\n"
     ]
    }
   ],
   "source": [
    "raw_data_path = f\"/home/batlab/mnt/server2/users/KevinQi/datasets/GridBat/{bat_id}/small_cage/raw/{date}\"\n",
    "raw_data_path = '/media/batlab/BatDrive/GridBat/data/small_cage/raw/230910'\n",
    "processed_data_path = raw_data_path.replace(\"raw\", \"processed\")\n",
    "video_paths = SniffBat2Dataset.get_video_paths(os.path.join(raw_data_path,'cameras'))"
   ]
  },
  {
   "cell_type": "code",
   "execution_count": 19,
   "id": "e1c949ac",
   "metadata": {},
   "outputs": [],
   "source": [
    "\"\"\"\n",
    "Load yolov5 weights. Download pretrained weights from lab server or train your own.\n",
    "\"\"\"\n",
    "\n",
    "yolo_weights_path = '/media/batlab/BatDrive/yolov8_batlab/detection/ir_marker_detection_v3/weights'\n",
    "if(os.path.exists(f'{yolo_weights_path}/best.engine')):\n",
    "    model = YOLO(f'{yolo_weights_path}/best.engine', task='detect') # TODO: Wait for yolov8 fix for best.engine\n",
    "else:\n",
    "    model = YOLO(f'{yolo_weights_path}/best.pt') # TODO: Wait for yolov8 fix for best.engine\n",
    "    success = model.export(format=\"engine\", device=0)  # export the model to ONNX format"
   ]
  },
  {
   "cell_type": "code",
   "execution_count": 22,
   "id": "ea4fa27e",
   "metadata": {},
   "outputs": [
    {
     "data": {
      "text/plain": [
       "<ultralytics.yolo.engine.model.YOLO at 0x7f875cd01070>"
      ]
     },
     "execution_count": 22,
     "metadata": {},
     "output_type": "execute_result"
    }
   ],
   "source": [
    "model"
   ]
  },
  {
   "cell_type": "code",
   "execution_count": 28,
   "id": "a32f09db",
   "metadata": {},
   "outputs": [
    {
     "name": "stdout",
     "output_type": "stream",
     "text": [
      "/media/batlab/BatDrive/GridBat/data/small_cage/raw/230910/cameras/bottom1/Basler_acA2040-55um__24260140__20230910_152706385.mp4\n",
      "302100\n"
     ]
    },
    {
     "name": "stderr",
     "output_type": "stream",
     "text": [
      "100%|█| 302100/302100 [2:12:56<00:00, \n"
     ]
    },
    {
     "name": "stdout",
     "output_type": "stream",
     "text": [
      "/media/batlab/BatDrive/GridBat/data/small_cage/raw/230910/cameras/bottom2/Basler_acA2040-55um__23584894__20230910_152705354.mp4\n",
      "302100\n"
     ]
    },
    {
     "name": "stderr",
     "output_type": "stream",
     "text": [
      "100%|█| 302100/302100 [1:57:24<00:00, \n"
     ]
    },
    {
     "name": "stdout",
     "output_type": "stream",
     "text": [
      "/media/batlab/BatDrive/GridBat/data/small_cage/raw/230910/cameras/front1/Basler_a2A1920-160umBAS__40243954__20230910_152702270.mp4\n",
      "302100\n"
     ]
    },
    {
     "name": "stderr",
     "output_type": "stream",
     "text": [
      "100%|█| 302100/302100 [1:57:34<00:00, \n"
     ]
    },
    {
     "name": "stdout",
     "output_type": "stream",
     "text": [
      "/media/batlab/BatDrive/GridBat/data/small_cage/raw/230910/cameras/front2/Basler_acA800-510um__23521662__20230910_152710140.mp4\n",
      "302100\n"
     ]
    },
    {
     "name": "stderr",
     "output_type": "stream",
     "text": [
      "100%|█| 302100/302100 [1:57:20<00:00, \n"
     ]
    },
    {
     "name": "stdout",
     "output_type": "stream",
     "text": [
      "/media/batlab/BatDrive/GridBat/data/small_cage/raw/230910/cameras/right1/Basler_acA800-510um__23354674__20230910_152707517.mp4\n",
      "302100\n"
     ]
    },
    {
     "name": "stderr",
     "output_type": "stream",
     "text": [
      "100%|█| 302100/302100 [1:57:17<00:00, \n"
     ]
    },
    {
     "name": "stdout",
     "output_type": "stream",
     "text": [
      "/media/batlab/BatDrive/GridBat/data/small_cage/raw/230910/cameras/right2/Basler_a2A1920-160umBAS__40243958__20230910_152703353.mp4\n",
      "302100\n"
     ]
    },
    {
     "name": "stderr",
     "output_type": "stream",
     "text": [
      "100%|█| 302100/302100 [1:57:19<00:00, \n"
     ]
    },
    {
     "name": "stdout",
     "output_type": "stream",
     "text": [
      "/media/batlab/BatDrive/GridBat/data/small_cage/raw/230910/cameras/left1/Basler_acA800-510um__23521660__20230910_152708733.mp4\n",
      "302100\n"
     ]
    },
    {
     "name": "stderr",
     "output_type": "stream",
     "text": [
      "100%|█| 302100/302100 [2:03:22<00:00, \n"
     ]
    },
    {
     "name": "stdout",
     "output_type": "stream",
     "text": [
      "/media/batlab/BatDrive/GridBat/data/small_cage/raw/230910/cameras/left2/Basler_a2A1920-160umBAS__40243959__20230910_152704276.mp4\n",
      "302100\n"
     ]
    },
    {
     "name": "stderr",
     "output_type": "stream",
     "text": [
      "100%|█| 302100/302100 [1:57:08<00:00, \n"
     ]
    }
   ],
   "source": [
    "df = ir_marker_inference(model,date,bat_id,video_paths,out_dir=raw_data_path.replace('raw', 'processed'))"
   ]
  }
 ],
 "metadata": {
  "kernelspec": {
   "display_name": "Python 3 (ipykernel)",
   "language": "python",
   "name": "python3"
  },
  "language_info": {
   "codemirror_mode": {
    "name": "ipython",
    "version": 3
   },
   "file_extension": ".py",
   "mimetype": "text/x-python",
   "name": "python",
   "nbconvert_exporter": "python",
   "pygments_lexer": "ipython3",
   "version": "3.10.13"
  }
 },
 "nbformat": 4,
 "nbformat_minor": 5
}
