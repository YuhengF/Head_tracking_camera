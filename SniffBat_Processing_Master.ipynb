{
 "cells": [
  {
   "cell_type": "code",
   "execution_count": 9,
   "id": "0c77bf83",
   "metadata": {},
   "outputs": [],
   "source": [
    "import papermill as pm\n",
    "import os"
   ]
  },
  {
   "cell_type": "code",
   "execution_count": 4,
   "id": "b5a5d4ca",
   "metadata": {},
   "outputs": [],
   "source": [
    "bat_id = 32626\n",
    "date = '221125'"
   ]
  },
  {
   "cell_type": "code",
   "execution_count": 10,
   "id": "ce7cb4e6",
   "metadata": {},
   "outputs": [],
   "source": [
    "ir_marker_inference_nb = 'ir_marker_detection_yolov8.ipynb'\n",
    "ir_marker_correspondence_nb = 'correspondence.ipynb'\n",
    "bat_head_inference_nb = 'bat_head_detection_yolov8.ipynb'\n",
    "dlc_head_pose_detection_nb = 'dlc_bat_head.ipynb'\n",
    "pose_tracking_nb = 'Bat_Pose_Tracking.ipynb'"
   ]
  },
  {
   "cell_type": "code",
   "execution_count": 11,
   "id": "300ec6ed",
   "metadata": {},
   "outputs": [],
   "source": [
    "def execute_notebook(nb_path, bat_id, date):\n",
    "    pm.execute_notebook(\n",
    "       nb_path,\n",
    "       os.path.join('notebook_snapshots', f'{bat_id}_{date}_{nb_path}'),\n",
    "       parameters=dict(bat_id=bat_id, date=date)\n",
    "    )"
   ]
  },
  {
   "cell_type": "code",
   "execution_count": 14,
   "id": "7291178f",
   "metadata": {},
   "outputs": [
    {
     "name": "stderr",
     "output_type": "stream",
     "text": [
      "Black is not installed, parameters wont be formatted\n"
     ]
    },
    {
     "data": {
      "application/vnd.jupyter.widget-view+json": {
       "model_id": "f2e684847102449fa5ce717d3a247a97",
       "version_major": 2,
       "version_minor": 0
      },
      "text/plain": [
       "Executing:   0%|          | 0/8 [00:00<?, ?cell/s]"
      ]
     },
     "metadata": {},
     "output_type": "display_data"
    },
    {
     "name": "stderr",
     "output_type": "stream",
     "text": [
      "2023-03-27 18:19:10.638882: I tensorflow/core/platform/cpu_feature_guard.cc:193] This TensorFlow binary is optimized with oneAPI Deep Neural Network Library (oneDNN) to use the following CPU instructions in performance-critical operations:  AVX2 AVX_VNNI FMA\n",
      "To enable them in other operations, rebuild TensorFlow with the appropriate compiler flags.\n",
      "2023-03-27 18:19:10.753198: I tensorflow/core/util/util.cc:169] oneDNN custom operations are on. You may see slightly different numerical results due to floating-point round-off errors from different computation orders. To turn them off, set the environment variable `TF_ENABLE_ONEDNN_OPTS=0`.\n",
      "2023-03-27 18:19:10.770097: E tensorflow/stream_executor/cuda/cuda_blas.cc:2981] Unable to register cuBLAS factory: Attempting to register factory for plugin cuBLAS when one has already been registered\n",
      "2023-03-27 18:19:11.079937: W tensorflow/stream_executor/platform/default/dso_loader.cc:64] Could not load dynamic library 'libnvinfer.so.7'; dlerror: libnvinfer.so.7: cannot open shared object file: No such file or directory; LD_LIBRARY_PATH: /home/batlab/miniconda3/envs/sniffbat/lib/python3.10/site-packages/cv2/../../lib64:/usr/local/cuda-11.7/lib64:\n",
      "2023-03-27 18:19:11.079995: W tensorflow/stream_executor/platform/default/dso_loader.cc:64] Could not load dynamic library 'libnvinfer_plugin.so.7'; dlerror: libnvinfer_plugin.so.7: cannot open shared object file: No such file or directory; LD_LIBRARY_PATH: /home/batlab/miniconda3/envs/sniffbat/lib/python3.10/site-packages/cv2/../../lib64:/usr/local/cuda-11.7/lib64:\n",
      "2023-03-27 18:19:11.079999: W tensorflow/compiler/tf2tensorrt/utils/py_utils.cc:38] TF-TRT Warning: Cannot dlopen some TensorRT libraries. If you would like to use Nvidia GPU with TensorRT, please make sure the missing libraries mentioned above are installed properly.\n"
     ]
    },
    {
     "name": "stdout",
     "output_type": "stream",
     "text": [
      "[03/27/2023-18:19:11] [TRT] [I] [MemUsageChange] Init CUDA: CPU +767, GPU +0, now: CPU 2697, GPU 2301 (MiB)\n",
      "[03/27/2023-18:19:11] [TRT] [I] Loaded engine size: 383 MiB\n",
      "[03/27/2023-18:19:12] [TRT] [I] [MemUsageChange] Init cuDNN: CPU +981, GPU +436, now: CPU 4143, GPU 3121 (MiB)\n",
      "[03/27/2023-18:19:12] [TRT] [I] [MemUsageChange] TensorRT-managed allocation in engine deserialization: CPU +0, GPU +0, now: CPU 0, GPU 0 (MiB)\n",
      "[03/27/2023-18:19:12] [TRT] [I] [MemUsageChange] Init cuDNN: CPU +0, GPU +32, now: CPU 3760, GPU 3121 (MiB)\n",
      "[03/27/2023-18:19:12] [TRT] [I] [MemUsageChange] TensorRT-managed allocation in IExecutionContext creation: CPU +0, GPU +0, now: CPU 0, GPU 0 (MiB)\n"
     ]
    },
    {
     "name": "stderr",
     "output_type": "stream",
     "text": [
      "Task exception was never retrieved\n",
      "future: <Task finished name='Task-62' coro=<NotebookClient.async_execute_cell() done, defined at /home/batlab/miniconda3/envs/sniffbat/lib/python3.10/site-packages/nbclient/client.py:915> exception=DeadKernelError('Kernel died')>\n",
      "Traceback (most recent call last):\n",
      "  File \"/home/batlab/miniconda3/envs/sniffbat/lib/python3.10/asyncio/tasks.py\", line 234, in __step\n",
      "    result = coro.throw(exc)\n",
      "  File \"/home/batlab/miniconda3/envs/sniffbat/lib/python3.10/site-packages/nbclient/client.py\", line 774, in _async_poll_for_reply\n",
      "    msg = await ensure_async(self.kc.shell_channel.get_msg(timeout=new_timeout))\n",
      "  File \"/home/batlab/miniconda3/envs/sniffbat/lib/python3.10/site-packages/nbclient/util.py\", line 97, in ensure_async\n",
      "    result = await obj\n",
      "  File \"/home/batlab/miniconda3/envs/sniffbat/lib/python3.10/site-packages/jupyter_client/channels.py\", line 224, in get_msg\n",
      "    ready = await self.socket.poll(timeout)\n",
      "  File \"/home/batlab/miniconda3/envs/sniffbat/lib/python3.10/asyncio/tasks.py\", line 304, in __wakeup\n",
      "    future.result()\n",
      "asyncio.exceptions.CancelledError\n",
      "\n",
      "During handling of the above exception, another exception occurred:\n",
      "\n",
      "Traceback (most recent call last):\n",
      "  File \"/home/batlab/miniconda3/envs/sniffbat/lib/python3.10/site-packages/nbclient/client.py\", line 1000, in async_execute_cell\n",
      "    exec_reply = await self.task_poll_for_reply\n",
      "  File \"/home/batlab/miniconda3/envs/sniffbat/lib/python3.10/asyncio/futures.py\", line 285, in __await__\n",
      "    yield self  # This tells Task to wait for completion.\n",
      "  File \"/home/batlab/miniconda3/envs/sniffbat/lib/python3.10/asyncio/tasks.py\", line 304, in __wakeup\n",
      "    future.result()\n",
      "  File \"/home/batlab/miniconda3/envs/sniffbat/lib/python3.10/asyncio/futures.py\", line 196, in result\n",
      "    raise exc\n",
      "asyncio.exceptions.CancelledError\n",
      "\n",
      "During handling of the above exception, another exception occurred:\n",
      "\n",
      "Traceback (most recent call last):\n",
      "  File \"/home/batlab/miniconda3/envs/sniffbat/lib/python3.10/asyncio/tasks.py\", line 234, in __step\n",
      "    result = coro.throw(exc)\n",
      "  File \"/home/batlab/miniconda3/envs/sniffbat/lib/python3.10/site-packages/nbclient/client.py\", line 1004, in async_execute_cell\n",
      "    raise DeadKernelError(\"Kernel died\")\n",
      "nbclient.exceptions.DeadKernelError: Kernel died\n",
      "Task exception was never retrieved\n",
      "future: <Task finished name='Task-63' coro=<NotebookClient._async_poll_kernel_alive() done, defined at /home/batlab/miniconda3/envs/sniffbat/lib/python3.10/site-packages/nbclient/client.py:814> exception=AssertionError()>\n",
      "Traceback (most recent call last):\n",
      "  File \"/home/batlab/miniconda3/envs/sniffbat/lib/python3.10/asyncio/tasks.py\", line 232, in __step\n",
      "    result = coro.send(None)\n",
      "  File \"/home/batlab/miniconda3/envs/sniffbat/lib/python3.10/site-packages/nbclient/client.py\", line 818, in _async_poll_kernel_alive\n",
      "    await self._async_check_alive()\n",
      "  File \"/home/batlab/miniconda3/envs/sniffbat/lib/python3.10/site-packages/nbclient/client.py\", line 855, in _async_check_alive\n",
      "    assert self.kc is not None\n",
      "AssertionError\n",
      "Autosave too slow: 7.51 sec, over 25% limit. Backing off to 60 sec\n",
      "Black is not installed, parameters wont be formatted\n"
     ]
    },
    {
     "data": {
      "application/vnd.jupyter.widget-view+json": {
       "model_id": "28c5c399df6f42ec9fc0b54b3a498f7c",
       "version_major": 2,
       "version_minor": 0
      },
      "text/plain": [
       "Executing:   0%|          | 0/10 [00:00<?, ?cell/s]"
      ]
     },
     "metadata": {},
     "output_type": "display_data"
    },
    {
     "name": "stderr",
     "output_type": "stream",
     "text": [
      "2023-03-28 17:06:05.529278: I tensorflow/core/platform/cpu_feature_guard.cc:193] This TensorFlow binary is optimized with oneAPI Deep Neural Network Library (oneDNN) to use the following CPU instructions in performance-critical operations:  AVX2 AVX_VNNI FMA\n",
      "To enable them in other operations, rebuild TensorFlow with the appropriate compiler flags.\n",
      "2023-03-28 17:06:05.715354: I tensorflow/core/util/util.cc:169] oneDNN custom operations are on. You may see slightly different numerical results due to floating-point round-off errors from different computation orders. To turn them off, set the environment variable `TF_ENABLE_ONEDNN_OPTS=0`.\n",
      "2023-03-28 17:06:05.750447: E tensorflow/stream_executor/cuda/cuda_blas.cc:2981] Unable to register cuBLAS factory: Attempting to register factory for plugin cuBLAS when one has already been registered\n",
      "2023-03-28 17:06:06.212510: W tensorflow/stream_executor/platform/default/dso_loader.cc:64] Could not load dynamic library 'libnvinfer.so.7'; dlerror: libnvinfer.so.7: cannot open shared object file: No such file or directory; LD_LIBRARY_PATH: /home/batlab/miniconda3/envs/sniffbat/lib/python3.10/site-packages/cv2/../../lib64:/usr/local/cuda-11.7/lib64:\n",
      "2023-03-28 17:06:06.212574: W tensorflow/stream_executor/platform/default/dso_loader.cc:64] Could not load dynamic library 'libnvinfer_plugin.so.7'; dlerror: libnvinfer_plugin.so.7: cannot open shared object file: No such file or directory; LD_LIBRARY_PATH: /home/batlab/miniconda3/envs/sniffbat/lib/python3.10/site-packages/cv2/../../lib64:/usr/local/cuda-11.7/lib64:\n",
      "2023-03-28 17:06:06.212578: W tensorflow/compiler/tf2tensorrt/utils/py_utils.cc:38] TF-TRT Warning: Cannot dlopen some TensorRT libraries. If you would like to use Nvidia GPU with TensorRT, please make sure the missing libraries mentioned above are installed properly.\n"
     ]
    },
    {
     "name": "stdout",
     "output_type": "stream",
     "text": [
      "[03/28/2023-17:06:07] [TRT] [I] [MemUsageChange] Init CUDA: CPU +328, GPU +0, now: CPU 2518, GPU 2363 (MiB)\n",
      "[03/28/2023-17:06:08] [TRT] [I] Loaded engine size: 386 MiB\n",
      "[03/28/2023-17:06:09] [TRT] [I] [MemUsageChange] Init cuDNN: CPU +981, GPU +438, now: CPU 3922, GPU 3189 (MiB)\n",
      "[03/28/2023-17:06:09] [TRT] [I] [MemUsageChange] TensorRT-managed allocation in engine deserialization: CPU +0, GPU +0, now: CPU 0, GPU 0 (MiB)\n",
      "[03/28/2023-17:06:09] [TRT] [I] [MemUsageChange] Init cuDNN: CPU +0, GPU +32, now: CPU 3535, GPU 3189 (MiB)\n",
      "[03/28/2023-17:06:09] [TRT] [I] [MemUsageChange] TensorRT-managed allocation in IExecutionContext creation: CPU +0, GPU +0, now: CPU 0, GPU 0 (MiB)\n"
     ]
    },
    {
     "name": "stderr",
     "output_type": "stream",
     "text": [
      "Autosave too slow: 7.53 sec, over 25% limit. Backing off to 60 sec\n",
      "Black is not installed, parameters wont be formatted\n"
     ]
    },
    {
     "data": {
      "application/vnd.jupyter.widget-view+json": {
       "model_id": "fdb022ff52de402fa04be9e7d07394f2",
       "version_major": 2,
       "version_minor": 0
      },
      "text/plain": [
       "Executing:   0%|          | 0/8 [00:00<?, ?cell/s]"
      ]
     },
     "metadata": {},
     "output_type": "display_data"
    },
    {
     "name": "stderr",
     "output_type": "stream",
     "text": [
      "2023-03-29 15:52:08.759820: I tensorflow/core/platform/cpu_feature_guard.cc:193] This TensorFlow binary is optimized with oneAPI Deep Neural Network Library (oneDNN) to use the following CPU instructions in performance-critical operations:  AVX2 AVX_VNNI FMA\n",
      "To enable them in other operations, rebuild TensorFlow with the appropriate compiler flags.\n",
      "2023-03-29 15:52:08.955360: I tensorflow/core/util/util.cc:169] oneDNN custom operations are on. You may see slightly different numerical results due to floating-point round-off errors from different computation orders. To turn them off, set the environment variable `TF_ENABLE_ONEDNN_OPTS=0`.\n",
      "2023-03-29 15:52:09.018121: E tensorflow/stream_executor/cuda/cuda_blas.cc:2981] Unable to register cuBLAS factory: Attempting to register factory for plugin cuBLAS when one has already been registered\n",
      "2023-03-29 15:52:09.504707: W tensorflow/stream_executor/platform/default/dso_loader.cc:64] Could not load dynamic library 'libnvinfer.so.7'; dlerror: libnvinfer.so.7: cannot open shared object file: No such file or directory; LD_LIBRARY_PATH: /home/batlab/miniconda3/envs/sniffbat/lib/python3.10/site-packages/cv2/../../lib64:/usr/local/cuda-11.7/lib64:\n",
      "2023-03-29 15:52:09.504774: W tensorflow/stream_executor/platform/default/dso_loader.cc:64] Could not load dynamic library 'libnvinfer_plugin.so.7'; dlerror: libnvinfer_plugin.so.7: cannot open shared object file: No such file or directory; LD_LIBRARY_PATH: /home/batlab/miniconda3/envs/sniffbat/lib/python3.10/site-packages/cv2/../../lib64:/usr/local/cuda-11.7/lib64:\n",
      "2023-03-29 15:52:09.504778: W tensorflow/compiler/tf2tensorrt/utils/py_utils.cc:38] TF-TRT Warning: Cannot dlopen some TensorRT libraries. If you would like to use Nvidia GPU with TensorRT, please make sure the missing libraries mentioned above are installed properly.\n"
     ]
    },
    {
     "name": "stdout",
     "output_type": "stream",
     "text": [
      "[03/29/2023-15:52:10] [TRT] [I] [MemUsageChange] Init CUDA: CPU +327, GPU +0, now: CPU 2479, GPU 2378 (MiB)\n",
      "[03/29/2023-15:52:11] [TRT] [I] Loaded engine size: 383 MiB\n",
      "[03/29/2023-15:52:11] [TRT] [I] [MemUsageChange] Init cuDNN: CPU +981, GPU +436, now: CPU 3879, GPU 3198 (MiB)\n",
      "[03/29/2023-15:52:11] [TRT] [I] [MemUsageChange] TensorRT-managed allocation in engine deserialization: CPU +0, GPU +0, now: CPU 0, GPU 0 (MiB)\n",
      "[03/29/2023-15:52:11] [TRT] [I] [MemUsageChange] Init cuDNN: CPU +0, GPU +32, now: CPU 3496, GPU 3198 (MiB)\n",
      "[03/29/2023-15:52:11] [TRT] [I] [MemUsageChange] TensorRT-managed allocation in IExecutionContext creation: CPU +0, GPU +0, now: CPU 0, GPU 0 (MiB)\n"
     ]
    },
    {
     "name": "stderr",
     "output_type": "stream",
     "text": [
      "Autosave too slow: 7.51 sec, over 25% limit. Backing off to 60 sec\n",
      "Black is not installed, parameters wont be formatted\n"
     ]
    },
    {
     "data": {
      "application/vnd.jupyter.widget-view+json": {
       "model_id": "e300c1b0a1134f379183e949dd4948d5",
       "version_major": 2,
       "version_minor": 0
      },
      "text/plain": [
       "Executing:   0%|          | 0/10 [00:00<?, ?cell/s]"
      ]
     },
     "metadata": {},
     "output_type": "display_data"
    },
    {
     "name": "stderr",
     "output_type": "stream",
     "text": [
      "2023-03-30 07:02:10.915994: I tensorflow/core/platform/cpu_feature_guard.cc:193] This TensorFlow binary is optimized with oneAPI Deep Neural Network Library (oneDNN) to use the following CPU instructions in performance-critical operations:  AVX2 AVX_VNNI FMA\n",
      "To enable them in other operations, rebuild TensorFlow with the appropriate compiler flags.\n",
      "2023-03-30 07:02:11.105696: I tensorflow/core/util/util.cc:169] oneDNN custom operations are on. You may see slightly different numerical results due to floating-point round-off errors from different computation orders. To turn them off, set the environment variable `TF_ENABLE_ONEDNN_OPTS=0`.\n",
      "2023-03-30 07:02:11.139852: E tensorflow/stream_executor/cuda/cuda_blas.cc:2981] Unable to register cuBLAS factory: Attempting to register factory for plugin cuBLAS when one has already been registered\n",
      "2023-03-30 07:02:11.495262: W tensorflow/stream_executor/platform/default/dso_loader.cc:64] Could not load dynamic library 'libnvinfer.so.7'; dlerror: libnvinfer.so.7: cannot open shared object file: No such file or directory; LD_LIBRARY_PATH: /home/batlab/miniconda3/envs/sniffbat/lib/python3.10/site-packages/cv2/../../lib64:/usr/local/cuda-11.7/lib64:\n",
      "2023-03-30 07:02:11.495334: W tensorflow/stream_executor/platform/default/dso_loader.cc:64] Could not load dynamic library 'libnvinfer_plugin.so.7'; dlerror: libnvinfer_plugin.so.7: cannot open shared object file: No such file or directory; LD_LIBRARY_PATH: /home/batlab/miniconda3/envs/sniffbat/lib/python3.10/site-packages/cv2/../../lib64:/usr/local/cuda-11.7/lib64:\n",
      "2023-03-30 07:02:11.495339: W tensorflow/compiler/tf2tensorrt/utils/py_utils.cc:38] TF-TRT Warning: Cannot dlopen some TensorRT libraries. If you would like to use Nvidia GPU with TensorRT, please make sure the missing libraries mentioned above are installed properly.\n"
     ]
    },
    {
     "name": "stdout",
     "output_type": "stream",
     "text": [
      "[03/30/2023-07:02:12] [TRT] [I] [MemUsageChange] Init CUDA: CPU +328, GPU +0, now: CPU 2368, GPU 2352 (MiB)\n",
      "[03/30/2023-07:02:13] [TRT] [I] Loaded engine size: 386 MiB\n",
      "[03/30/2023-07:02:13] [TRT] [I] [MemUsageChange] Init cuDNN: CPU +981, GPU +438, now: CPU 3771, GPU 3178 (MiB)\n",
      "[03/30/2023-07:02:13] [TRT] [I] [MemUsageChange] TensorRT-managed allocation in engine deserialization: CPU +0, GPU +0, now: CPU 0, GPU 0 (MiB)\n",
      "[03/30/2023-07:02:13] [TRT] [I] [MemUsageChange] Init cuDNN: CPU +0, GPU +32, now: CPU 3385, GPU 3178 (MiB)\n",
      "[03/30/2023-07:02:13] [TRT] [I] [MemUsageChange] TensorRT-managed allocation in IExecutionContext creation: CPU +0, GPU +0, now: CPU 0, GPU 0 (MiB)\n"
     ]
    },
    {
     "name": "stderr",
     "output_type": "stream",
     "text": [
      "Autosave too slow: 7.53 sec, over 25% limit. Backing off to 60 sec\n",
      "Black is not installed, parameters wont be formatted\n"
     ]
    },
    {
     "data": {
      "application/vnd.jupyter.widget-view+json": {
       "model_id": "a3238deedd3b41bfb7a7bdc9baffd7d9",
       "version_major": 2,
       "version_minor": 0
      },
      "text/plain": [
       "Executing:   0%|          | 0/8 [00:00<?, ?cell/s]"
      ]
     },
     "metadata": {},
     "output_type": "display_data"
    },
    {
     "name": "stderr",
     "output_type": "stream",
     "text": [
      "2023-03-30 22:04:43.109181: I tensorflow/core/platform/cpu_feature_guard.cc:193] This TensorFlow binary is optimized with oneAPI Deep Neural Network Library (oneDNN) to use the following CPU instructions in performance-critical operations:  AVX2 AVX_VNNI FMA\n",
      "To enable them in other operations, rebuild TensorFlow with the appropriate compiler flags.\n",
      "2023-03-30 22:04:43.215611: I tensorflow/core/util/util.cc:169] oneDNN custom operations are on. You may see slightly different numerical results due to floating-point round-off errors from different computation orders. To turn them off, set the environment variable `TF_ENABLE_ONEDNN_OPTS=0`.\n",
      "2023-03-30 22:04:43.232581: E tensorflow/stream_executor/cuda/cuda_blas.cc:2981] Unable to register cuBLAS factory: Attempting to register factory for plugin cuBLAS when one has already been registered\n",
      "2023-03-30 22:04:43.543489: W tensorflow/stream_executor/platform/default/dso_loader.cc:64] Could not load dynamic library 'libnvinfer.so.7'; dlerror: libnvinfer.so.7: cannot open shared object file: No such file or directory; LD_LIBRARY_PATH: /home/batlab/miniconda3/envs/sniffbat/lib/python3.10/site-packages/cv2/../../lib64:/usr/local/cuda-11.7/lib64:\n",
      "2023-03-30 22:04:43.543556: W tensorflow/stream_executor/platform/default/dso_loader.cc:64] Could not load dynamic library 'libnvinfer_plugin.so.7'; dlerror: libnvinfer_plugin.so.7: cannot open shared object file: No such file or directory; LD_LIBRARY_PATH: /home/batlab/miniconda3/envs/sniffbat/lib/python3.10/site-packages/cv2/../../lib64:/usr/local/cuda-11.7/lib64:\n",
      "2023-03-30 22:04:43.543561: W tensorflow/compiler/tf2tensorrt/utils/py_utils.cc:38] TF-TRT Warning: Cannot dlopen some TensorRT libraries. If you would like to use Nvidia GPU with TensorRT, please make sure the missing libraries mentioned above are installed properly.\n"
     ]
    },
    {
     "name": "stdout",
     "output_type": "stream",
     "text": [
      "[03/30/2023-22:04:44] [TRT] [I] [MemUsageChange] Init CUDA: CPU +667, GPU +0, now: CPU 2447, GPU 2361 (MiB)\n",
      "[03/30/2023-22:04:44] [TRT] [I] Loaded engine size: 383 MiB\n",
      "[03/30/2023-22:04:45] [TRT] [I] [MemUsageChange] Init cuDNN: CPU +980, GPU +438, now: CPU 3846, GPU 3183 (MiB)\n",
      "[03/30/2023-22:04:45] [TRT] [I] [MemUsageChange] TensorRT-managed allocation in engine deserialization: CPU +0, GPU +0, now: CPU 0, GPU 0 (MiB)\n",
      "[03/30/2023-22:04:45] [TRT] [I] [MemUsageChange] Init cuDNN: CPU +0, GPU +32, now: CPU 3463, GPU 3183 (MiB)\n",
      "[03/30/2023-22:04:45] [TRT] [I] [MemUsageChange] TensorRT-managed allocation in IExecutionContext creation: CPU +0, GPU +0, now: CPU 0, GPU 0 (MiB)\n"
     ]
    },
    {
     "name": "stderr",
     "output_type": "stream",
     "text": [
      "Autosave too slow: 7.52 sec, over 25% limit. Backing off to 60 sec\n",
      "Black is not installed, parameters wont be formatted\n"
     ]
    },
    {
     "data": {
      "application/vnd.jupyter.widget-view+json": {
       "model_id": "b2c30a27d8a841c29a0c33c1aba24de5",
       "version_major": 2,
       "version_minor": 0
      },
      "text/plain": [
       "Executing:   0%|          | 0/10 [00:00<?, ?cell/s]"
      ]
     },
     "metadata": {},
     "output_type": "display_data"
    },
    {
     "name": "stderr",
     "output_type": "stream",
     "text": [
      "2023-03-31 19:07:34.308074: I tensorflow/core/platform/cpu_feature_guard.cc:193] This TensorFlow binary is optimized with oneAPI Deep Neural Network Library (oneDNN) to use the following CPU instructions in performance-critical operations:  AVX2 AVX_VNNI FMA\n",
      "To enable them in other operations, rebuild TensorFlow with the appropriate compiler flags.\n",
      "2023-03-31 19:07:34.488369: I tensorflow/core/util/util.cc:169] oneDNN custom operations are on. You may see slightly different numerical results due to floating-point round-off errors from different computation orders. To turn them off, set the environment variable `TF_ENABLE_ONEDNN_OPTS=0`.\n",
      "2023-03-31 19:07:34.522857: E tensorflow/stream_executor/cuda/cuda_blas.cc:2981] Unable to register cuBLAS factory: Attempting to register factory for plugin cuBLAS when one has already been registered\n",
      "2023-03-31 19:07:34.975316: W tensorflow/stream_executor/platform/default/dso_loader.cc:64] Could not load dynamic library 'libnvinfer.so.7'; dlerror: libnvinfer.so.7: cannot open shared object file: No such file or directory; LD_LIBRARY_PATH: /home/batlab/miniconda3/envs/sniffbat/lib/python3.10/site-packages/cv2/../../lib64:/usr/local/cuda-11.7/lib64:\n",
      "2023-03-31 19:07:34.975376: W tensorflow/stream_executor/platform/default/dso_loader.cc:64] Could not load dynamic library 'libnvinfer_plugin.so.7'; dlerror: libnvinfer_plugin.so.7: cannot open shared object file: No such file or directory; LD_LIBRARY_PATH: /home/batlab/miniconda3/envs/sniffbat/lib/python3.10/site-packages/cv2/../../lib64:/usr/local/cuda-11.7/lib64:\n",
      "2023-03-31 19:07:34.975380: W tensorflow/compiler/tf2tensorrt/utils/py_utils.cc:38] TF-TRT Warning: Cannot dlopen some TensorRT libraries. If you would like to use Nvidia GPU with TensorRT, please make sure the missing libraries mentioned above are installed properly.\n"
     ]
    },
    {
     "name": "stdout",
     "output_type": "stream",
     "text": [
      "[03/31/2023-19:07:35] [TRT] [I] [MemUsageChange] Init CUDA: CPU +328, GPU +0, now: CPU 2768, GPU 2361 (MiB)\n",
      "[03/31/2023-19:07:36] [TRT] [I] Loaded engine size: 386 MiB\n",
      "[03/31/2023-19:07:37] [TRT] [I] [MemUsageChange] Init cuDNN: CPU +981, GPU +438, now: CPU 4171, GPU 3187 (MiB)\n",
      "[03/31/2023-19:07:37] [TRT] [I] [MemUsageChange] TensorRT-managed allocation in engine deserialization: CPU +0, GPU +0, now: CPU 0, GPU 0 (MiB)\n",
      "[03/31/2023-19:07:37] [TRT] [I] [MemUsageChange] Init cuDNN: CPU +0, GPU +32, now: CPU 3785, GPU 3187 (MiB)\n",
      "[03/31/2023-19:07:37] [TRT] [I] [MemUsageChange] TensorRT-managed allocation in IExecutionContext creation: CPU +0, GPU +0, now: CPU 0, GPU 0 (MiB)\n"
     ]
    },
    {
     "name": "stderr",
     "output_type": "stream",
     "text": [
      "Autosave too slow: 7.52 sec, over 25% limit. Backing off to 60 sec\n",
      "Black is not installed, parameters wont be formatted\n"
     ]
    },
    {
     "data": {
      "application/vnd.jupyter.widget-view+json": {
       "model_id": "b917fa0d961f4dff9d3d3dc2cead773f",
       "version_major": 2,
       "version_minor": 0
      },
      "text/plain": [
       "Executing:   0%|          | 0/8 [00:00<?, ?cell/s]"
      ]
     },
     "metadata": {},
     "output_type": "display_data"
    },
    {
     "name": "stderr",
     "output_type": "stream",
     "text": [
      "2023-04-01 16:08:03.108744: I tensorflow/core/platform/cpu_feature_guard.cc:193] This TensorFlow binary is optimized with oneAPI Deep Neural Network Library (oneDNN) to use the following CPU instructions in performance-critical operations:  AVX2 AVX_VNNI FMA\n",
      "To enable them in other operations, rebuild TensorFlow with the appropriate compiler flags.\n",
      "2023-04-01 16:08:03.300732: I tensorflow/core/util/util.cc:169] oneDNN custom operations are on. You may see slightly different numerical results due to floating-point round-off errors from different computation orders. To turn them off, set the environment variable `TF_ENABLE_ONEDNN_OPTS=0`.\n",
      "2023-04-01 16:08:03.358781: E tensorflow/stream_executor/cuda/cuda_blas.cc:2981] Unable to register cuBLAS factory: Attempting to register factory for plugin cuBLAS when one has already been registered\n",
      "2023-04-01 16:08:03.834202: W tensorflow/stream_executor/platform/default/dso_loader.cc:64] Could not load dynamic library 'libnvinfer.so.7'; dlerror: libnvinfer.so.7: cannot open shared object file: No such file or directory; LD_LIBRARY_PATH: /home/batlab/miniconda3/envs/sniffbat/lib/python3.10/site-packages/cv2/../../lib64:/usr/local/cuda-11.7/lib64:\n",
      "2023-04-01 16:08:03.834266: W tensorflow/stream_executor/platform/default/dso_loader.cc:64] Could not load dynamic library 'libnvinfer_plugin.so.7'; dlerror: libnvinfer_plugin.so.7: cannot open shared object file: No such file or directory; LD_LIBRARY_PATH: /home/batlab/miniconda3/envs/sniffbat/lib/python3.10/site-packages/cv2/../../lib64:/usr/local/cuda-11.7/lib64:\n",
      "2023-04-01 16:08:03.834270: W tensorflow/compiler/tf2tensorrt/utils/py_utils.cc:38] TF-TRT Warning: Cannot dlopen some TensorRT libraries. If you would like to use Nvidia GPU with TensorRT, please make sure the missing libraries mentioned above are installed properly.\n"
     ]
    },
    {
     "name": "stdout",
     "output_type": "stream",
     "text": [
      "[04/01/2023-16:08:04] [TRT] [I] [MemUsageChange] Init CUDA: CPU +328, GPU +0, now: CPU 2125, GPU 2362 (MiB)\n",
      "[04/01/2023-16:08:05] [TRT] [I] Loaded engine size: 383 MiB\n",
      "[04/01/2023-16:08:06] [TRT] [I] [MemUsageChange] Init cuDNN: CPU +981, GPU +436, now: CPU 3525, GPU 3182 (MiB)\n",
      "[04/01/2023-16:08:06] [TRT] [I] [MemUsageChange] TensorRT-managed allocation in engine deserialization: CPU +0, GPU +0, now: CPU 0, GPU 0 (MiB)\n",
      "[04/01/2023-16:08:06] [TRT] [I] [MemUsageChange] Init cuDNN: CPU +0, GPU +32, now: CPU 3142, GPU 3182 (MiB)\n",
      "[04/01/2023-16:08:06] [TRT] [I] [MemUsageChange] TensorRT-managed allocation in IExecutionContext creation: CPU +0, GPU +0, now: CPU 0, GPU 0 (MiB)\n"
     ]
    },
    {
     "name": "stderr",
     "output_type": "stream",
     "text": [
      "Autosave too slow: 7.51 sec, over 25% limit. Backing off to 60 sec\n",
      "Black is not installed, parameters wont be formatted\n"
     ]
    },
    {
     "data": {
      "application/vnd.jupyter.widget-view+json": {
       "model_id": "cb5fe238207f4457ab1a7399bc7d6950",
       "version_major": 2,
       "version_minor": 0
      },
      "text/plain": [
       "Executing:   0%|          | 0/10 [00:00<?, ?cell/s]"
      ]
     },
     "metadata": {},
     "output_type": "display_data"
    },
    {
     "name": "stderr",
     "output_type": "stream",
     "text": [
      "2023-04-02 13:41:44.485467: I tensorflow/core/platform/cpu_feature_guard.cc:193] This TensorFlow binary is optimized with oneAPI Deep Neural Network Library (oneDNN) to use the following CPU instructions in performance-critical operations:  AVX2 AVX_VNNI FMA\n",
      "To enable them in other operations, rebuild TensorFlow with the appropriate compiler flags.\n",
      "2023-04-02 13:41:44.667203: I tensorflow/core/util/util.cc:169] oneDNN custom operations are on. You may see slightly different numerical results due to floating-point round-off errors from different computation orders. To turn them off, set the environment variable `TF_ENABLE_ONEDNN_OPTS=0`.\n",
      "2023-04-02 13:41:44.704733: E tensorflow/stream_executor/cuda/cuda_blas.cc:2981] Unable to register cuBLAS factory: Attempting to register factory for plugin cuBLAS when one has already been registered\n",
      "2023-04-02 13:41:45.156614: W tensorflow/stream_executor/platform/default/dso_loader.cc:64] Could not load dynamic library 'libnvinfer.so.7'; dlerror: libnvinfer.so.7: cannot open shared object file: No such file or directory; LD_LIBRARY_PATH: /home/batlab/miniconda3/envs/sniffbat/lib/python3.10/site-packages/cv2/../../lib64:/usr/local/cuda-11.7/lib64:\n",
      "2023-04-02 13:41:45.156682: W tensorflow/stream_executor/platform/default/dso_loader.cc:64] Could not load dynamic library 'libnvinfer_plugin.so.7'; dlerror: libnvinfer_plugin.so.7: cannot open shared object file: No such file or directory; LD_LIBRARY_PATH: /home/batlab/miniconda3/envs/sniffbat/lib/python3.10/site-packages/cv2/../../lib64:/usr/local/cuda-11.7/lib64:\n",
      "2023-04-02 13:41:45.156686: W tensorflow/compiler/tf2tensorrt/utils/py_utils.cc:38] TF-TRT Warning: Cannot dlopen some TensorRT libraries. If you would like to use Nvidia GPU with TensorRT, please make sure the missing libraries mentioned above are installed properly.\n"
     ]
    },
    {
     "name": "stdout",
     "output_type": "stream",
     "text": [
      "[04/02/2023-13:41:46] [TRT] [I] [MemUsageChange] Init CUDA: CPU +328, GPU +0, now: CPU 2589, GPU 2361 (MiB)\n",
      "[04/02/2023-13:41:47] [TRT] [I] Loaded engine size: 386 MiB\n",
      "[04/02/2023-13:41:47] [TRT] [I] [MemUsageChange] Init cuDNN: CPU +981, GPU +438, now: CPU 3992, GPU 3187 (MiB)\n",
      "[04/02/2023-13:41:47] [TRT] [I] [MemUsageChange] TensorRT-managed allocation in engine deserialization: CPU +0, GPU +0, now: CPU 0, GPU 0 (MiB)\n",
      "[04/02/2023-13:41:47] [TRT] [I] [MemUsageChange] Init cuDNN: CPU +0, GPU +32, now: CPU 3605, GPU 3187 (MiB)\n",
      "[04/02/2023-13:41:47] [TRT] [I] [MemUsageChange] TensorRT-managed allocation in IExecutionContext creation: CPU +0, GPU +0, now: CPU 0, GPU 0 (MiB)\n"
     ]
    },
    {
     "name": "stderr",
     "output_type": "stream",
     "text": [
      "Autosave too slow: 7.56 sec, over 25% limit. Backing off to 60 sec\n",
      "Black is not installed, parameters wont be formatted\n"
     ]
    },
    {
     "data": {
      "application/vnd.jupyter.widget-view+json": {
       "model_id": "0ed2e56b1de741ffa27c52eb3954d0a8",
       "version_major": 2,
       "version_minor": 0
      },
      "text/plain": [
       "Executing:   0%|          | 0/8 [00:00<?, ?cell/s]"
      ]
     },
     "metadata": {},
     "output_type": "display_data"
    },
    {
     "name": "stderr",
     "output_type": "stream",
     "text": [
      "2023-04-03 11:12:17.397673: I tensorflow/core/platform/cpu_feature_guard.cc:193] This TensorFlow binary is optimized with oneAPI Deep Neural Network Library (oneDNN) to use the following CPU instructions in performance-critical operations:  AVX2 AVX_VNNI FMA\n",
      "To enable them in other operations, rebuild TensorFlow with the appropriate compiler flags.\n",
      "2023-04-03 11:12:17.584986: I tensorflow/core/util/util.cc:169] oneDNN custom operations are on. You may see slightly different numerical results due to floating-point round-off errors from different computation orders. To turn them off, set the environment variable `TF_ENABLE_ONEDNN_OPTS=0`.\n",
      "2023-04-03 11:12:17.618592: E tensorflow/stream_executor/cuda/cuda_blas.cc:2981] Unable to register cuBLAS factory: Attempting to register factory for plugin cuBLAS when one has already been registered\n",
      "2023-04-03 11:12:18.062140: W tensorflow/stream_executor/platform/default/dso_loader.cc:64] Could not load dynamic library 'libnvinfer.so.7'; dlerror: libnvinfer.so.7: cannot open shared object file: No such file or directory; LD_LIBRARY_PATH: /home/batlab/miniconda3/envs/sniffbat/lib/python3.10/site-packages/cv2/../../lib64:/usr/local/cuda-11.7/lib64:\n",
      "2023-04-03 11:12:18.062210: W tensorflow/stream_executor/platform/default/dso_loader.cc:64] Could not load dynamic library 'libnvinfer_plugin.so.7'; dlerror: libnvinfer_plugin.so.7: cannot open shared object file: No such file or directory; LD_LIBRARY_PATH: /home/batlab/miniconda3/envs/sniffbat/lib/python3.10/site-packages/cv2/../../lib64:/usr/local/cuda-11.7/lib64:\n",
      "2023-04-03 11:12:18.062215: W tensorflow/compiler/tf2tensorrt/utils/py_utils.cc:38] TF-TRT Warning: Cannot dlopen some TensorRT libraries. If you would like to use Nvidia GPU with TensorRT, please make sure the missing libraries mentioned above are installed properly.\n"
     ]
    },
    {
     "name": "stdout",
     "output_type": "stream",
     "text": [
      "[04/03/2023-11:12:18] [TRT] [I] [MemUsageChange] Init CUDA: CPU +328, GPU +0, now: CPU 2560, GPU 2361 (MiB)\n",
      "[04/03/2023-11:12:19] [TRT] [I] Loaded engine size: 383 MiB\n",
      "[04/03/2023-11:12:20] [TRT] [I] [MemUsageChange] Init cuDNN: CPU +980, GPU +436, now: CPU 3959, GPU 3181 (MiB)\n",
      "[04/03/2023-11:12:20] [TRT] [I] [MemUsageChange] TensorRT-managed allocation in engine deserialization: CPU +0, GPU +0, now: CPU 0, GPU 0 (MiB)\n",
      "[04/03/2023-11:12:20] [TRT] [I] [MemUsageChange] Init cuDNN: CPU +0, GPU +32, now: CPU 3576, GPU 3181 (MiB)\n",
      "[04/03/2023-11:12:20] [TRT] [I] [MemUsageChange] TensorRT-managed allocation in IExecutionContext creation: CPU +0, GPU +0, now: CPU 0, GPU 0 (MiB)\n"
     ]
    },
    {
     "name": "stderr",
     "output_type": "stream",
     "text": [
      "Autosave too slow: 7.51 sec, over 25% limit. Backing off to 60 sec\n",
      "Autosave too slow: 15.07 sec, over 25% limit. Backing off to 120 sec\n",
      "Black is not installed, parameters wont be formatted\n"
     ]
    },
    {
     "data": {
      "application/vnd.jupyter.widget-view+json": {
       "model_id": "ba14835e562d40b7a4b22ba342ee0fbf",
       "version_major": 2,
       "version_minor": 0
      },
      "text/plain": [
       "Executing:   0%|          | 0/10 [00:00<?, ?cell/s]"
      ]
     },
     "metadata": {},
     "output_type": "display_data"
    },
    {
     "name": "stderr",
     "output_type": "stream",
     "text": [
      "2023-04-04 11:30:30.255804: I tensorflow/core/platform/cpu_feature_guard.cc:193] This TensorFlow binary is optimized with oneAPI Deep Neural Network Library (oneDNN) to use the following CPU instructions in performance-critical operations:  AVX2 AVX_VNNI FMA\n",
      "To enable them in other operations, rebuild TensorFlow with the appropriate compiler flags.\n",
      "2023-04-04 11:30:30.461248: I tensorflow/core/util/util.cc:169] oneDNN custom operations are on. You may see slightly different numerical results due to floating-point round-off errors from different computation orders. To turn them off, set the environment variable `TF_ENABLE_ONEDNN_OPTS=0`.\n",
      "2023-04-04 11:30:30.523721: E tensorflow/stream_executor/cuda/cuda_blas.cc:2981] Unable to register cuBLAS factory: Attempting to register factory for plugin cuBLAS when one has already been registered\n",
      "2023-04-04 11:30:31.016620: W tensorflow/stream_executor/platform/default/dso_loader.cc:64] Could not load dynamic library 'libnvinfer.so.7'; dlerror: libnvinfer.so.7: cannot open shared object file: No such file or directory; LD_LIBRARY_PATH: /home/batlab/miniconda3/envs/sniffbat/lib/python3.10/site-packages/cv2/../../lib64:/usr/local/cuda-11.7/lib64:\n",
      "2023-04-04 11:30:31.016708: W tensorflow/stream_executor/platform/default/dso_loader.cc:64] Could not load dynamic library 'libnvinfer_plugin.so.7'; dlerror: libnvinfer_plugin.so.7: cannot open shared object file: No such file or directory; LD_LIBRARY_PATH: /home/batlab/miniconda3/envs/sniffbat/lib/python3.10/site-packages/cv2/../../lib64:/usr/local/cuda-11.7/lib64:\n",
      "2023-04-04 11:30:31.016712: W tensorflow/compiler/tf2tensorrt/utils/py_utils.cc:38] TF-TRT Warning: Cannot dlopen some TensorRT libraries. If you would like to use Nvidia GPU with TensorRT, please make sure the missing libraries mentioned above are installed properly.\n"
     ]
    },
    {
     "name": "stdout",
     "output_type": "stream",
     "text": [
      "[04/04/2023-11:30:32] [TRT] [I] [MemUsageChange] Init CUDA: CPU +328, GPU +0, now: CPU 2505, GPU 2358 (MiB)\n",
      "[04/04/2023-11:30:33] [TRT] [I] Loaded engine size: 386 MiB\n",
      "[04/04/2023-11:30:33] [TRT] [I] [MemUsageChange] Init cuDNN: CPU +981, GPU +438, now: CPU 3909, GPU 3184 (MiB)\n",
      "[04/04/2023-11:30:33] [TRT] [I] [MemUsageChange] TensorRT-managed allocation in engine deserialization: CPU +0, GPU +0, now: CPU 0, GPU 0 (MiB)\n",
      "[04/04/2023-11:30:33] [TRT] [I] [MemUsageChange] Init cuDNN: CPU +0, GPU +32, now: CPU 3522, GPU 3184 (MiB)\n",
      "[04/04/2023-11:30:33] [TRT] [I] [MemUsageChange] TensorRT-managed allocation in IExecutionContext creation: CPU +0, GPU +0, now: CPU 0, GPU 0 (MiB)\n"
     ]
    },
    {
     "name": "stderr",
     "output_type": "stream",
     "text": [
      "Autosave too slow: 7.51 sec, over 25% limit. Backing off to 60 sec\n",
      "Autosave too slow: 15.18 sec, over 25% limit. Backing off to 120 sec\n"
     ]
    }
   ],
   "source": [
    "for date in ['221125', '221122', '221123', '221124', '221126']:\n",
    "    execute_notebook(ir_marker_inference_nb, bat_id, date)\n",
    "    execute_notebook(bat_head_inference_nb, bat_id, date)"
   ]
  },
  {
   "cell_type": "code",
   "execution_count": 6,
   "id": "9901b513",
   "metadata": {
    "scrolled": true
   },
   "outputs": [
    {
     "name": "stderr",
     "output_type": "stream",
     "text": [
      "Black is not installed, parameters wont be formatted\n"
     ]
    },
    {
     "data": {
      "application/vnd.jupyter.widget-view+json": {
       "model_id": "a1d4c3cca17241f28cc7c065371e26d5",
       "version_major": 2,
       "version_minor": 0
      },
      "text/plain": [
       "Executing:   0%|          | 0/45 [00:00<?, ?cell/s]"
      ]
     },
     "metadata": {},
     "output_type": "display_data"
    },
    {
     "name": "stderr",
     "output_type": "stream",
     "text": [
      "/home/batlab/miniconda3/envs/sniffbat/lib/python3.10/site-packages/numpy/core/fromnumeric.py:3432: RuntimeWarning: Mean of empty slice.\n",
      "  return _methods._mean(a, axis=axis, dtype=dtype,\n",
      "/home/batlab/miniconda3/envs/sniffbat/lib/python3.10/site-packages/numpy/core/_methods.py:182: RuntimeWarning: invalid value encountered in divide\n",
      "  ret = um.true_divide(\n",
      "/tmp/ipykernel_72733/1994287772.py:155: RuntimeWarning: All-NaN slice encountered\n",
      "/home/batlab/miniconda3/envs/sniffbat/lib/python3.10/site-packages/numpy/core/fromnumeric.py:3432: RuntimeWarning: Mean of empty slice.\n",
      "  return _methods._mean(a, axis=axis, dtype=dtype,\n",
      "/home/batlab/miniconda3/envs/sniffbat/lib/python3.10/site-packages/numpy/core/_methods.py:182: RuntimeWarning: invalid value encountered in divide\n",
      "  ret = um.true_divide(\n",
      "/tmp/ipykernel_72733/1994287772.py:155: RuntimeWarning: All-NaN slice encountered\n",
      "/home/batlab/miniconda3/envs/sniffbat/lib/python3.10/site-packages/numpy/core/fromnumeric.py:3432: RuntimeWarning: Mean of empty slice.\n",
      "  return _methods._mean(a, axis=axis, dtype=dtype,\n",
      "/home/batlab/miniconda3/envs/sniffbat/lib/python3.10/site-packages/numpy/core/_methods.py:182: RuntimeWarning: invalid value encountered in divide\n",
      "  ret = um.true_divide(\n",
      "/tmp/ipykernel_72733/1994287772.py:155: RuntimeWarning: All-NaN slice encountered\n",
      "/home/batlab/miniconda3/envs/sniffbat/lib/python3.10/site-packages/numpy/core/fromnumeric.py:3432: RuntimeWarning: Mean of empty slice.\n",
      "  return _methods._mean(a, axis=axis, dtype=dtype,\n",
      "/home/batlab/miniconda3/envs/sniffbat/lib/python3.10/site-packages/numpy/core/_methods.py:182: RuntimeWarning: invalid value encountered in divide\n",
      "  ret = um.true_divide(\n",
      "/tmp/ipykernel_72733/1994287772.py:155: RuntimeWarning: All-NaN slice encountered\n",
      "Black is not installed, parameters wont be formatted\n"
     ]
    },
    {
     "data": {
      "application/vnd.jupyter.widget-view+json": {
       "model_id": "7605a1fbe98346e4966e9216a7ef778c",
       "version_major": 2,
       "version_minor": 0
      },
      "text/plain": [
       "Executing:   0%|          | 0/45 [00:00<?, ?cell/s]"
      ]
     },
     "metadata": {},
     "output_type": "display_data"
    },
    {
     "name": "stderr",
     "output_type": "stream",
     "text": [
      "/home/batlab/miniconda3/envs/sniffbat/lib/python3.10/site-packages/numpy/core/fromnumeric.py:3432: RuntimeWarning: Mean of empty slice.\n",
      "  return _methods._mean(a, axis=axis, dtype=dtype,\n",
      "/home/batlab/miniconda3/envs/sniffbat/lib/python3.10/site-packages/numpy/core/_methods.py:182: RuntimeWarning: invalid value encountered in divide\n",
      "  ret = um.true_divide(\n",
      "/tmp/ipykernel_2599714/1994287772.py:155: RuntimeWarning: All-NaN slice encountered\n",
      "/home/batlab/miniconda3/envs/sniffbat/lib/python3.10/site-packages/numpy/core/fromnumeric.py:3432: RuntimeWarning: Mean of empty slice.\n",
      "  return _methods._mean(a, axis=axis, dtype=dtype,\n",
      "/home/batlab/miniconda3/envs/sniffbat/lib/python3.10/site-packages/numpy/core/_methods.py:182: RuntimeWarning: invalid value encountered in divide\n",
      "  ret = um.true_divide(\n",
      "/tmp/ipykernel_2599714/1994287772.py:155: RuntimeWarning: All-NaN slice encountered\n",
      "/home/batlab/miniconda3/envs/sniffbat/lib/python3.10/site-packages/numpy/core/fromnumeric.py:3432: RuntimeWarning: Mean of empty slice.\n",
      "  return _methods._mean(a, axis=axis, dtype=dtype,\n",
      "/home/batlab/miniconda3/envs/sniffbat/lib/python3.10/site-packages/numpy/core/_methods.py:182: RuntimeWarning: invalid value encountered in divide\n",
      "  ret = um.true_divide(\n",
      "/tmp/ipykernel_2599714/1994287772.py:155: RuntimeWarning: All-NaN slice encountered\n",
      "/home/batlab/miniconda3/envs/sniffbat/lib/python3.10/site-packages/numpy/core/fromnumeric.py:3432: RuntimeWarning: Mean of empty slice.\n",
      "  return _methods._mean(a, axis=axis, dtype=dtype,\n",
      "/home/batlab/miniconda3/envs/sniffbat/lib/python3.10/site-packages/numpy/core/_methods.py:182: RuntimeWarning: invalid value encountered in divide\n",
      "  ret = um.true_divide(\n",
      "/tmp/ipykernel_2599714/1994287772.py:155: RuntimeWarning: All-NaN slice encountered\n",
      "Black is not installed, parameters wont be formatted\n"
     ]
    },
    {
     "data": {
      "application/vnd.jupyter.widget-view+json": {
       "model_id": "94d17f860a5f41bfb13f3421e9d4218d",
       "version_major": 2,
       "version_minor": 0
      },
      "text/plain": [
       "Executing:   0%|          | 0/45 [00:00<?, ?cell/s]"
      ]
     },
     "metadata": {},
     "output_type": "display_data"
    },
    {
     "name": "stderr",
     "output_type": "stream",
     "text": [
      "/home/batlab/miniconda3/envs/sniffbat/lib/python3.10/site-packages/numpy/core/fromnumeric.py:3432: RuntimeWarning: Mean of empty slice.\n",
      "  return _methods._mean(a, axis=axis, dtype=dtype,\n",
      "/home/batlab/miniconda3/envs/sniffbat/lib/python3.10/site-packages/numpy/core/_methods.py:182: RuntimeWarning: invalid value encountered in divide\n",
      "  ret = um.true_divide(\n",
      "/tmp/ipykernel_1111076/1994287772.py:155: RuntimeWarning: All-NaN slice encountered\n",
      "/home/batlab/miniconda3/envs/sniffbat/lib/python3.10/site-packages/numpy/core/fromnumeric.py:3432: RuntimeWarning: Mean of empty slice.\n",
      "  return _methods._mean(a, axis=axis, dtype=dtype,\n",
      "/home/batlab/miniconda3/envs/sniffbat/lib/python3.10/site-packages/numpy/core/_methods.py:182: RuntimeWarning: invalid value encountered in divide\n",
      "  ret = um.true_divide(\n",
      "/tmp/ipykernel_1111076/1994287772.py:155: RuntimeWarning: All-NaN slice encountered\n",
      "/home/batlab/miniconda3/envs/sniffbat/lib/python3.10/site-packages/numpy/core/fromnumeric.py:3432: RuntimeWarning: Mean of empty slice.\n",
      "  return _methods._mean(a, axis=axis, dtype=dtype,\n",
      "/home/batlab/miniconda3/envs/sniffbat/lib/python3.10/site-packages/numpy/core/_methods.py:182: RuntimeWarning: invalid value encountered in divide\n",
      "  ret = um.true_divide(\n",
      "/tmp/ipykernel_1111076/1994287772.py:155: RuntimeWarning: All-NaN slice encountered\n",
      "/home/batlab/miniconda3/envs/sniffbat/lib/python3.10/site-packages/numpy/core/fromnumeric.py:3432: RuntimeWarning: Mean of empty slice.\n",
      "  return _methods._mean(a, axis=axis, dtype=dtype,\n",
      "/home/batlab/miniconda3/envs/sniffbat/lib/python3.10/site-packages/numpy/core/_methods.py:182: RuntimeWarning: invalid value encountered in divide\n",
      "  ret = um.true_divide(\n",
      "/tmp/ipykernel_1111076/1994287772.py:155: RuntimeWarning: All-NaN slice encountered\n",
      "Black is not installed, parameters wont be formatted\n"
     ]
    },
    {
     "data": {
      "application/vnd.jupyter.widget-view+json": {
       "model_id": "fd7a8e3ce0fc4cd79a3ce8832f061596",
       "version_major": 2,
       "version_minor": 0
      },
      "text/plain": [
       "Executing:   0%|          | 0/45 [00:00<?, ?cell/s]"
      ]
     },
     "metadata": {},
     "output_type": "display_data"
    },
    {
     "name": "stderr",
     "output_type": "stream",
     "text": [
      "/home/batlab/miniconda3/envs/sniffbat/lib/python3.10/site-packages/numpy/core/fromnumeric.py:3432: RuntimeWarning: Mean of empty slice.\n",
      "  return _methods._mean(a, axis=axis, dtype=dtype,\n",
      "/home/batlab/miniconda3/envs/sniffbat/lib/python3.10/site-packages/numpy/core/_methods.py:182: RuntimeWarning: invalid value encountered in divide\n",
      "  ret = um.true_divide(\n",
      "/tmp/ipykernel_3795617/1994287772.py:155: RuntimeWarning: All-NaN slice encountered\n",
      "/home/batlab/miniconda3/envs/sniffbat/lib/python3.10/site-packages/numpy/core/fromnumeric.py:3432: RuntimeWarning: Mean of empty slice.\n",
      "  return _methods._mean(a, axis=axis, dtype=dtype,\n",
      "/home/batlab/miniconda3/envs/sniffbat/lib/python3.10/site-packages/numpy/core/_methods.py:182: RuntimeWarning: invalid value encountered in divide\n",
      "  ret = um.true_divide(\n",
      "/tmp/ipykernel_3795617/1994287772.py:155: RuntimeWarning: All-NaN slice encountered\n",
      "/home/batlab/miniconda3/envs/sniffbat/lib/python3.10/site-packages/numpy/core/fromnumeric.py:3432: RuntimeWarning: Mean of empty slice.\n",
      "  return _methods._mean(a, axis=axis, dtype=dtype,\n",
      "/home/batlab/miniconda3/envs/sniffbat/lib/python3.10/site-packages/numpy/core/_methods.py:182: RuntimeWarning: invalid value encountered in divide\n",
      "  ret = um.true_divide(\n",
      "/tmp/ipykernel_3795617/1994287772.py:155: RuntimeWarning: All-NaN slice encountered\n",
      "/home/batlab/miniconda3/envs/sniffbat/lib/python3.10/site-packages/numpy/core/fromnumeric.py:3432: RuntimeWarning: Mean of empty slice.\n",
      "  return _methods._mean(a, axis=axis, dtype=dtype,\n",
      "/home/batlab/miniconda3/envs/sniffbat/lib/python3.10/site-packages/numpy/core/_methods.py:182: RuntimeWarning: invalid value encountered in divide\n",
      "  ret = um.true_divide(\n",
      "/tmp/ipykernel_3795617/1994287772.py:155: RuntimeWarning: All-NaN slice encountered\n",
      "Black is not installed, parameters wont be formatted\n"
     ]
    },
    {
     "data": {
      "application/vnd.jupyter.widget-view+json": {
       "model_id": "51b24ca98def4efc9d03e58b5dc2f45d",
       "version_major": 2,
       "version_minor": 0
      },
      "text/plain": [
       "Executing:   0%|          | 0/45 [00:00<?, ?cell/s]"
      ]
     },
     "metadata": {},
     "output_type": "display_data"
    },
    {
     "name": "stderr",
     "output_type": "stream",
     "text": [
      "/home/batlab/miniconda3/envs/sniffbat/lib/python3.10/site-packages/numpy/core/fromnumeric.py:3432: RuntimeWarning: Mean of empty slice.\n",
      "  return _methods._mean(a, axis=axis, dtype=dtype,\n",
      "/home/batlab/miniconda3/envs/sniffbat/lib/python3.10/site-packages/numpy/core/_methods.py:182: RuntimeWarning: invalid value encountered in divide\n",
      "  ret = um.true_divide(\n",
      "/tmp/ipykernel_2521295/1994287772.py:155: RuntimeWarning: All-NaN slice encountered\n",
      "/home/batlab/miniconda3/envs/sniffbat/lib/python3.10/site-packages/numpy/core/fromnumeric.py:3432: RuntimeWarning: Mean of empty slice.\n",
      "  return _methods._mean(a, axis=axis, dtype=dtype,\n",
      "/home/batlab/miniconda3/envs/sniffbat/lib/python3.10/site-packages/numpy/core/_methods.py:182: RuntimeWarning: invalid value encountered in divide\n",
      "  ret = um.true_divide(\n",
      "/tmp/ipykernel_2521295/1994287772.py:155: RuntimeWarning: All-NaN slice encountered\n",
      "/home/batlab/miniconda3/envs/sniffbat/lib/python3.10/site-packages/numpy/core/fromnumeric.py:3432: RuntimeWarning: Mean of empty slice.\n",
      "  return _methods._mean(a, axis=axis, dtype=dtype,\n",
      "/home/batlab/miniconda3/envs/sniffbat/lib/python3.10/site-packages/numpy/core/_methods.py:182: RuntimeWarning: invalid value encountered in divide\n",
      "  ret = um.true_divide(\n",
      "/tmp/ipykernel_2521295/1994287772.py:155: RuntimeWarning: All-NaN slice encountered\n",
      "/home/batlab/miniconda3/envs/sniffbat/lib/python3.10/site-packages/numpy/core/fromnumeric.py:3432: RuntimeWarning: Mean of empty slice.\n",
      "  return _methods._mean(a, axis=axis, dtype=dtype,\n",
      "/home/batlab/miniconda3/envs/sniffbat/lib/python3.10/site-packages/numpy/core/_methods.py:182: RuntimeWarning: invalid value encountered in divide\n",
      "  ret = um.true_divide(\n",
      "/tmp/ipykernel_2521295/1994287772.py:155: RuntimeWarning: All-NaN slice encountered\n"
     ]
    }
   ],
   "source": [
    "# for date in ['221129', '221122', '221123', '221124', '221126', '221125']:\n",
    "for date in ['221202', '221125','221123','221124', '221126']:\n",
    "    execute_notebook(ir_marker_correspondence_nb, bat_id, date)"
   ]
  },
  {
   "cell_type": "code",
   "execution_count": 23,
   "id": "758749fe",
   "metadata": {
    "scrolled": true
   },
   "outputs": [
    {
     "name": "stderr",
     "output_type": "stream",
     "text": [
      "Black is not installed, parameters wont be formatted\n"
     ]
    },
    {
     "data": {
      "application/vnd.jupyter.widget-view+json": {
       "model_id": "5b6716776ee746a4aba4dd11e91b8448",
       "version_major": 2,
       "version_minor": 0
      },
      "text/plain": [
       "Executing:   0%|          | 0/42 [00:00<?, ?cell/s]"
      ]
     },
     "metadata": {},
     "output_type": "display_data"
    },
    {
     "name": "stderr",
     "output_type": "stream",
     "text": [
      "Task exception was never retrieved\n",
      "future: <Task finished name='Task-1658' coro=<NotebookClient.async_execute_cell() done, defined at /home/batlab/miniconda3/envs/sniffbat/lib/python3.10/site-packages/nbclient/client.py:915> exception=CellExecutionError('An error occurred while executing the following cell:\\n------------------\\ndeeplabcut.analyze_videos(config_path, \\n                          [video_path], \\n                          videotype=\\'.mp4\\', \\n                          identity_only=True, \\n                          auto_track=False)\\n------------------\\n\\n\\x1b[0;31m---------------------------------------------------------------------------\\x1b[0m\\n\\x1b[0;31mKeyboardInterrupt\\x1b[0m                         Traceback (most recent call last)\\nCell \\x1b[0;32mIn [8], line 1\\x1b[0m\\n\\x1b[0;32m----> 1\\x1b[0m \\x1b[43mdeeplabcut\\x1b[49m\\x1b[38;5;241;43m.\\x1b[39;49m\\x1b[43manalyze_videos\\x1b[49m\\x1b[43m(\\x1b[49m\\x1b[43mconfig_path\\x1b[49m\\x1b[43m,\\x1b[49m\\x1b[43m \\x1b[49m\\n\\x1b[1;32m      2\\x1b[0m \\x1b[43m                          \\x1b[49m\\x1b[43m[\\x1b[49m\\x1b[43mvideo_path\\x1b[49m\\x1b[43m]\\x1b[49m\\x1b[43m,\\x1b[49m\\x1b[43m \\x1b[49m\\n\\x1b[1;32m      3\\x1b[0m \\x1b[43m                          \\x1b[49m\\x1b[43mvideotype\\x1b[49m\\x1b[38;5;241;43m=\\x1b[39;49m\\x1b[38;5;124;43m\\'\\x1b[39;49m\\x1b[38;5;124;43m.mp4\\x1b[39;49m\\x1b[38;5;124;43m\\'\\x1b[39;49m\\x1b[43m,\\x1b[49m\\x1b[43m \\x1b[49m\\n\\x1b[1;32m      4\\x1b[0m \\x1b[43m                          \\x1b[49m\\x1b[43midentity_only\\x1b[49m\\x1b[38;5;241;43m=\\x1b[39;49m\\x1b[38;5;28;43;01mTrue\\x1b[39;49;00m\\x1b[43m,\\x1b[49m\\x1b[43m \\x1b[49m\\n\\x1b[1;32m      5\\x1b[0m \\x1b[43m                          \\x1b[49m\\x1b[43mauto_track\\x1b[49m\\x1b[38;5;241;43m=\\x1b[39;49m\\x1b[38;5;28;43;01mFalse\\x1b[39;49;00m\\x1b[43m)\\x1b[49m\\n\\nFile \\x1b[0;32m~/miniconda3/envs/sniffbat/lib/python3.10/site-packages/deeplabcut/pose_estimation_tensorflow/predict_videos.py:626\\x1b[0m, in \\x1b[0;36manalyze_videos\\x1b[0;34m(config, videos, videotype, shuffle, trainingsetindex, gputouse, save_as_csv, in_random_order, destfolder, batchsize, cropping, TFGPUinference, dynamic, modelprefix, robust_nframes, allow_growth, use_shelve, auto_track, n_tracks, calibrate, identity_only, use_openvino)\\x1b[0m\\n\\x1b[1;32m    621\\x1b[0m \\x1b[38;5;28;01mfrom\\x1b[39;00m \\x1b[38;5;21;01mdeeplabcut\\x1b[39;00m\\x1b[38;5;21;01m.\\x1b[39;00m\\x1b[38;5;21;01mpose_estimation_tensorflow\\x1b[39;00m\\x1b[38;5;21;01m.\\x1b[39;00m\\x1b[38;5;21;01mpredict_multianimal\\x1b[39;00m \\x1b[38;5;28;01mimport\\x1b[39;00m (\\n\\x1b[1;32m    622\\x1b[0m     AnalyzeMultiAnimalVideo,\\n\\x1b[1;32m    623\\x1b[0m )\\n\\x1b[1;32m    625\\x1b[0m \\x1b[38;5;28;01mfor\\x1b[39;00m video \\x1b[38;5;129;01min\\x1b[39;00m Videos:\\n\\x1b[0;32m--> 626\\x1b[0m     \\x1b[43mAnalyzeMultiAnimalVideo\\x1b[49m\\x1b[43m(\\x1b[49m\\n\\x1b[1;32m    627\\x1b[0m \\x1b[43m        \\x1b[49m\\x1b[43mvideo\\x1b[49m\\x1b[43m,\\x1b[49m\\n\\x1b[1;32m    628\\x1b[0m \\x1b[43m        \\x1b[49m\\x1b[43mDLCscorer\\x1b[49m\\x1b[43m,\\x1b[49m\\n\\x1b[1;32m    629\\x1b[0m \\x1b[43m        \\x1b[49m\\x1b[43mtrainFraction\\x1b[49m\\x1b[43m,\\x1b[49m\\n\\x1b[1;32m    630\\x1b[0m \\x1b[43m        \\x1b[49m\\x1b[43mcfg\\x1b[49m\\x1b[43m,\\x1b[49m\\n\\x1b[1;32m    631\\x1b[0m \\x1b[43m        \\x1b[49m\\x1b[43mdlc_cfg\\x1b[49m\\x1b[43m,\\x1b[49m\\n\\x1b[1;32m    632\\x1b[0m \\x1b[43m        \\x1b[49m\\x1b[43msess\\x1b[49m\\x1b[43m,\\x1b[49m\\n\\x1b[1;32m    633\\x1b[0m \\x1b[43m        \\x1b[49m\\x1b[43minputs\\x1b[49m\\x1b[43m,\\x1b[49m\\n\\x1b[1;32m    634\\x1b[0m \\x1b[43m        \\x1b[49m\\x1b[43moutputs\\x1b[49m\\x1b[43m,\\x1b[49m\\n\\x1b[1;32m    635\\x1b[0m \\x1b[43m        \\x1b[49m\\x1b[43mdestfolder\\x1b[49m\\x1b[43m,\\x1b[49m\\n\\x1b[1;32m    636\\x1b[0m \\x1b[43m        \\x1b[49m\\x1b[43mrobust_nframes\\x1b[49m\\x1b[38;5;241;43m=\\x1b[39;49m\\x1b[43mrobust_nframes\\x1b[49m\\x1b[43m,\\x1b[49m\\n\\x1b[1;32m    637\\x1b[0m \\x1b[43m        \\x1b[49m\\x1b[43muse_shelve\\x1b[49m\\x1b[38;5;241;43m=\\x1b[39;49m\\x1b[43muse_shelve\\x1b[49m\\x1b[43m,\\x1b[49m\\n\\x1b[1;32m    638\\x1b[0m \\x1b[43m    \\x1b[49m\\x1b[43m)\\x1b[49m\\n\\x1b[1;32m    639\\x1b[0m     \\x1b[38;5;28;01mif\\x1b[39;00m auto_track:  \\x1b[38;5;66;03m# tracker type is taken from default in cfg\\x1b[39;00m\\n\\x1b[1;32m    640\\x1b[0m         convert_detections2tracklets(\\n\\x1b[1;32m    641\\x1b[0m             config,\\n\\x1b[1;32m    642\\x1b[0m             [video],\\n\\x1b[0;32m   (...)\\x1b[0m\\n\\x1b[1;32m    649\\x1b[0m             identity_only\\x1b[38;5;241m=\\x1b[39midentity_only,\\n\\x1b[1;32m    650\\x1b[0m         )\\n\\nFile \\x1b[0;32m~/miniconda3/envs/sniffbat/lib/python3.10/site-packages/deeplabcut/pose_estimation_tensorflow/predict_multianimal.py:172\\x1b[0m, in \\x1b[0;36mAnalyzeMultiAnimalVideo\\x1b[0;34m(video, DLCscorer, trainFraction, cfg, dlc_cfg, sess, inputs, outputs, destfolder, robust_nframes, use_shelve)\\x1b[0m\\n\\x1b[1;32m    170\\x1b[0m     shelf_path \\x1b[38;5;241m=\\x1b[39m \\x1b[38;5;124m\"\\x1b[39m\\x1b[38;5;124m\"\\x1b[39m\\n\\x1b[1;32m    171\\x1b[0m \\x1b[38;5;28;01mif\\x1b[39;00m \\x1b[38;5;28mint\\x1b[39m(dlc_cfg[\\x1b[38;5;124m\"\\x1b[39m\\x1b[38;5;124mbatch_size\\x1b[39m\\x1b[38;5;124m\"\\x1b[39m]) \\x1b[38;5;241m>\\x1b[39m \\x1b[38;5;241m1\\x1b[39m:\\n\\x1b[0;32m--> 172\\x1b[0m     PredicteData, nframes \\x1b[38;5;241m=\\x1b[39m \\x1b[43mGetPoseandCostsF\\x1b[49m\\x1b[43m(\\x1b[49m\\n\\x1b[1;32m    173\\x1b[0m \\x1b[43m        \\x1b[49m\\x1b[43mcfg\\x1b[49m\\x1b[43m,\\x1b[49m\\n\\x1b[1;32m    174\\x1b[0m \\x1b[43m        \\x1b[49m\\x1b[43mdlc_cfg\\x1b[49m\\x1b[43m,\\x1b[49m\\n\\x1b[1;32m    175\\x1b[0m \\x1b[43m        \\x1b[49m\\x1b[43msess\\x1b[49m\\x1b[43m,\\x1b[49m\\n\\x1b[1;32m    176\\x1b[0m \\x1b[43m        \\x1b[49m\\x1b[43minputs\\x1b[49m\\x1b[43m,\\x1b[49m\\n\\x1b[1;32m    177\\x1b[0m \\x1b[43m        \\x1b[49m\\x1b[43moutputs\\x1b[49m\\x1b[43m,\\x1b[49m\\n\\x1b[1;32m    178\\x1b[0m \\x1b[43m        \\x1b[49m\\x1b[43mvid\\x1b[49m\\x1b[43m,\\x1b[49m\\n\\x1b[1;32m    179\\x1b[0m \\x1b[43m        \\x1b[49m\\x1b[43mnframes\\x1b[49m\\x1b[43m,\\x1b[49m\\n\\x1b[1;32m    180\\x1b[0m \\x1b[43m        \\x1b[49m\\x1b[38;5;28;43mint\\x1b[39;49m\\x1b[43m(\\x1b[49m\\x1b[43mdlc_cfg\\x1b[49m\\x1b[43m[\\x1b[49m\\x1b[38;5;124;43m\"\\x1b[39;49m\\x1b[38;5;124;43mbatch_size\\x1b[39;49m\\x1b[38;5;124;43m\"\\x1b[39;49m\\x1b[43m]\\x1b[49m\\x1b[43m)\\x1b[49m\\x1b[43m,\\x1b[49m\\n\\x1b[1;32m    181\\x1b[0m \\x1b[43m        \\x1b[49m\\x1b[43mshelf_path\\x1b[49m\\x1b[43m,\\x1b[49m\\n\\x1b[1;32m    182\\x1b[0m \\x1b[43m    \\x1b[49m\\x1b[43m)\\x1b[49m\\n\\x1b[1;32m    183\\x1b[0m \\x1b[38;5;28;01melse\\x1b[39;00m:\\n\\x1b[1;32m    184\\x1b[0m     PredicteData, nframes \\x1b[38;5;241m=\\x1b[39m GetPoseandCostsS(\\n\\x1b[1;32m    185\\x1b[0m         cfg,\\n\\x1b[1;32m    186\\x1b[0m         dlc_cfg,\\n\\x1b[0;32m   (...)\\x1b[0m\\n\\x1b[1;32m    192\\x1b[0m         shelf_path,\\n\\x1b[1;32m    193\\x1b[0m     )\\n\\nFile \\x1b[0;32m~/miniconda3/envs/sniffbat/lib/python3.10/site-packages/deeplabcut/pose_estimation_tensorflow/predict_multianimal.py:428\\x1b[0m, in \\x1b[0;36mGetPoseandCostsF\\x1b[0;34m(cfg, dlc_cfg, sess, inputs, outputs, cap, nframes, batchsize, shelf_path)\\x1b[0m\\n\\x1b[1;32m    426\\x1b[0m inds\\x1b[38;5;241m.\\x1b[39mappend(counter)\\n\\x1b[1;32m    427\\x1b[0m \\x1b[38;5;28;01mif\\x1b[39;00m batch_ind \\x1b[38;5;241m==\\x1b[39m batchsize \\x1b[38;5;241m-\\x1b[39m \\x1b[38;5;241m1\\x1b[39m:\\n\\x1b[0;32m--> 428\\x1b[0m     D \\x1b[38;5;241m=\\x1b[39m \\x1b[43mpredict\\x1b[49m\\x1b[38;5;241;43m.\\x1b[39;49m\\x1b[43mpredict_batched_peaks_and_costs\\x1b[49m\\x1b[43m(\\x1b[49m\\n\\x1b[1;32m    429\\x1b[0m \\x1b[43m        \\x1b[49m\\x1b[43mdlc_cfg\\x1b[49m\\x1b[43m,\\x1b[49m\\n\\x1b[1;32m    430\\x1b[0m \\x1b[43m        \\x1b[49m\\x1b[43mframes\\x1b[49m\\x1b[43m,\\x1b[49m\\n\\x1b[1;32m    431\\x1b[0m \\x1b[43m        \\x1b[49m\\x1b[43msess\\x1b[49m\\x1b[43m,\\x1b[49m\\n\\x1b[1;32m    432\\x1b[0m \\x1b[43m        \\x1b[49m\\x1b[43minputs\\x1b[49m\\x1b[43m,\\x1b[49m\\n\\x1b[1;32m    433\\x1b[0m \\x1b[43m        \\x1b[49m\\x1b[43moutputs\\x1b[49m\\x1b[43m,\\x1b[49m\\n\\x1b[1;32m    434\\x1b[0m \\x1b[43m    \\x1b[49m\\x1b[43m)\\x1b[49m\\n\\x1b[1;32m    435\\x1b[0m     \\x1b[38;5;28;01mfor\\x1b[39;00m ind, data \\x1b[38;5;129;01min\\x1b[39;00m \\x1b[38;5;28mzip\\x1b[39m(inds, D):\\n\\x1b[1;32m    436\\x1b[0m         db[\\x1b[38;5;124m\"\\x1b[39m\\x1b[38;5;124mframe\\x1b[39m\\x1b[38;5;124m\"\\x1b[39m \\x1b[38;5;241m+\\x1b[39m \\x1b[38;5;28mstr\\x1b[39m(ind)\\x1b[38;5;241m.\\x1b[39mzfill(strwidth)] \\x1b[38;5;241m=\\x1b[39m data\\n\\nFile \\x1b[0;32m~/miniconda3/envs/sniffbat/lib/python3.10/site-packages/deeplabcut/pose_estimation_tensorflow/core/predict_multianimal.py:219\\x1b[0m, in \\x1b[0;36mpredict_batched_peaks_and_costs\\x1b[0;34m(pose_cfg, images_batch, sess, inputs, outputs, peaks_gt, n_points, n_decimals, extra_dict)\\x1b[0m\\n\\x1b[1;32m    216\\x1b[0m \\x1b[38;5;28;01mif\\x1b[39;00m extra_dict:\\n\\x1b[1;32m    217\\x1b[0m     features \\x1b[38;5;241m=\\x1b[39m sess\\x1b[38;5;241m.\\x1b[39mrun(extra_dict[\\x1b[38;5;124m\"\\x1b[39m\\x1b[38;5;124mfeatures\\x1b[39m\\x1b[38;5;124m\"\\x1b[39m], feed_dict\\x1b[38;5;241m=\\x1b[39m{inputs: images_batch})\\n\\x1b[0;32m--> 219\\x1b[0m scmaps, locrefs, \\x1b[38;5;241m*\\x1b[39mpafs, peaks \\x1b[38;5;241m=\\x1b[39m \\x1b[43msess\\x1b[49m\\x1b[38;5;241;43m.\\x1b[39;49m\\x1b[43mrun\\x1b[49m\\x1b[43m(\\x1b[49m\\x1b[43moutputs\\x1b[49m\\x1b[43m,\\x1b[49m\\x1b[43m \\x1b[49m\\x1b[43mfeed_dict\\x1b[49m\\x1b[38;5;241;43m=\\x1b[39;49m\\x1b[43m{\\x1b[49m\\x1b[43minputs\\x1b[49m\\x1b[43m:\\x1b[49m\\x1b[43m \\x1b[49m\\x1b[43mimages_batch\\x1b[49m\\x1b[43m}\\x1b[49m\\x1b[43m)\\x1b[49m\\n\\x1b[1;32m    220\\x1b[0m \\x1b[38;5;28;01mif\\x1b[39;00m \\x1b[38;5;241m~\\x1b[39mnp\\x1b[38;5;241m.\\x1b[39many(peaks):\\n\\x1b[1;32m    221\\x1b[0m     \\x1b[38;5;28;01mreturn\\x1b[39;00m []\\n\\nFile \\x1b[0;32m~/miniconda3/envs/sniffbat/lib/python3.10/site-packages/tensorflow/python/client/session.py:968\\x1b[0m, in \\x1b[0;36mBaseSession.run\\x1b[0;34m(self, fetches, feed_dict, options, run_metadata)\\x1b[0m\\n\\x1b[1;32m    965\\x1b[0m run_metadata_ptr \\x1b[38;5;241m=\\x1b[39m tf_session\\x1b[38;5;241m.\\x1b[39mTF_NewBuffer() \\x1b[38;5;28;01mif\\x1b[39;00m run_metadata \\x1b[38;5;28;01melse\\x1b[39;00m \\x1b[38;5;28;01mNone\\x1b[39;00m\\n\\x1b[1;32m    967\\x1b[0m \\x1b[38;5;28;01mtry\\x1b[39;00m:\\n\\x1b[0;32m--> 968\\x1b[0m   result \\x1b[38;5;241m=\\x1b[39m \\x1b[38;5;28;43mself\\x1b[39;49m\\x1b[38;5;241;43m.\\x1b[39;49m\\x1b[43m_run\\x1b[49m\\x1b[43m(\\x1b[49m\\x1b[38;5;28;43;01mNone\\x1b[39;49;00m\\x1b[43m,\\x1b[49m\\x1b[43m \\x1b[49m\\x1b[43mfetches\\x1b[49m\\x1b[43m,\\x1b[49m\\x1b[43m \\x1b[49m\\x1b[43mfeed_dict\\x1b[49m\\x1b[43m,\\x1b[49m\\x1b[43m \\x1b[49m\\x1b[43moptions_ptr\\x1b[49m\\x1b[43m,\\x1b[49m\\n\\x1b[1;32m    969\\x1b[0m \\x1b[43m                     \\x1b[49m\\x1b[43mrun_metadata_ptr\\x1b[49m\\x1b[43m)\\x1b[49m\\n\\x1b[1;32m    970\\x1b[0m   \\x1b[38;5;28;01mif\\x1b[39;00m run_metadata:\\n\\x1b[1;32m    971\\x1b[0m     proto_data \\x1b[38;5;241m=\\x1b[39m tf_session\\x1b[38;5;241m.\\x1b[39mTF_GetBuffer(run_metadata_ptr)\\n\\nFile \\x1b[0;32m~/miniconda3/envs/sniffbat/lib/python3.10/site-packages/tensorflow/python/client/session.py:1191\\x1b[0m, in \\x1b[0;36mBaseSession._run\\x1b[0;34m(self, handle, fetches, feed_dict, options, run_metadata)\\x1b[0m\\n\\x1b[1;32m   1188\\x1b[0m \\x1b[38;5;66;03m# We only want to really perform the run if fetches or targets are provided,\\x1b[39;00m\\n\\x1b[1;32m   1189\\x1b[0m \\x1b[38;5;66;03m# or if the call is a partial run that specifies feeds.\\x1b[39;00m\\n\\x1b[1;32m   1190\\x1b[0m \\x1b[38;5;28;01mif\\x1b[39;00m final_fetches \\x1b[38;5;129;01mor\\x1b[39;00m final_targets \\x1b[38;5;129;01mor\\x1b[39;00m (handle \\x1b[38;5;129;01mand\\x1b[39;00m feed_dict_tensor):\\n\\x1b[0;32m-> 1191\\x1b[0m   results \\x1b[38;5;241m=\\x1b[39m \\x1b[38;5;28;43mself\\x1b[39;49m\\x1b[38;5;241;43m.\\x1b[39;49m\\x1b[43m_do_run\\x1b[49m\\x1b[43m(\\x1b[49m\\x1b[43mhandle\\x1b[49m\\x1b[43m,\\x1b[49m\\x1b[43m \\x1b[49m\\x1b[43mfinal_targets\\x1b[49m\\x1b[43m,\\x1b[49m\\x1b[43m \\x1b[49m\\x1b[43mfinal_fetches\\x1b[49m\\x1b[43m,\\x1b[49m\\n\\x1b[1;32m   1192\\x1b[0m \\x1b[43m                         \\x1b[49m\\x1b[43mfeed_dict_tensor\\x1b[49m\\x1b[43m,\\x1b[49m\\x1b[43m \\x1b[49m\\x1b[43moptions\\x1b[49m\\x1b[43m,\\x1b[49m\\x1b[43m \\x1b[49m\\x1b[43mrun_metadata\\x1b[49m\\x1b[43m)\\x1b[49m\\n\\x1b[1;32m   1193\\x1b[0m \\x1b[38;5;28;01melse\\x1b[39;00m:\\n\\x1b[1;32m   1194\\x1b[0m   results \\x1b[38;5;241m=\\x1b[39m []\\n\\nFile \\x1b[0;32m~/miniconda3/envs/sniffbat/lib/python3.10/site-packages/tensorflow/python/client/session.py:1371\\x1b[0m, in \\x1b[0;36mBaseSession._do_run\\x1b[0;34m(self, handle, target_list, fetch_list, feed_dict, options, run_metadata)\\x1b[0m\\n\\x1b[1;32m   1368\\x1b[0m   \\x1b[38;5;28;01mreturn\\x1b[39;00m \\x1b[38;5;28mself\\x1b[39m\\x1b[38;5;241m.\\x1b[39m_call_tf_sessionprun(handle, feed_dict, fetch_list)\\n\\x1b[1;32m   1370\\x1b[0m \\x1b[38;5;28;01mif\\x1b[39;00m handle \\x1b[38;5;129;01mis\\x1b[39;00m \\x1b[38;5;28;01mNone\\x1b[39;00m:\\n\\x1b[0;32m-> 1371\\x1b[0m   \\x1b[38;5;28;01mreturn\\x1b[39;00m \\x1b[38;5;28;43mself\\x1b[39;49m\\x1b[38;5;241;43m.\\x1b[39;49m\\x1b[43m_do_call\\x1b[49m\\x1b[43m(\\x1b[49m\\x1b[43m_run_fn\\x1b[49m\\x1b[43m,\\x1b[49m\\x1b[43m \\x1b[49m\\x1b[43mfeeds\\x1b[49m\\x1b[43m,\\x1b[49m\\x1b[43m \\x1b[49m\\x1b[43mfetches\\x1b[49m\\x1b[43m,\\x1b[49m\\x1b[43m \\x1b[49m\\x1b[43mtargets\\x1b[49m\\x1b[43m,\\x1b[49m\\x1b[43m \\x1b[49m\\x1b[43moptions\\x1b[49m\\x1b[43m,\\x1b[49m\\n\\x1b[1;32m   1372\\x1b[0m \\x1b[43m                       \\x1b[49m\\x1b[43mrun_metadata\\x1b[49m\\x1b[43m)\\x1b[49m\\n\\x1b[1;32m   1373\\x1b[0m \\x1b[38;5;28;01melse\\x1b[39;00m:\\n\\x1b[1;32m   1374\\x1b[0m   \\x1b[38;5;28;01mreturn\\x1b[39;00m \\x1b[38;5;28mself\\x1b[39m\\x1b[38;5;241m.\\x1b[39m_do_call(_prun_fn, handle, feeds, fetches)\\n\\nFile \\x1b[0;32m~/miniconda3/envs/sniffbat/lib/python3.10/site-packages/tensorflow/python/client/session.py:1378\\x1b[0m, in \\x1b[0;36mBaseSession._do_call\\x1b[0;34m(self, fn, *args)\\x1b[0m\\n\\x1b[1;32m   1376\\x1b[0m \\x1b[38;5;28;01mdef\\x1b[39;00m \\x1b[38;5;21m_do_call\\x1b[39m(\\x1b[38;5;28mself\\x1b[39m, fn, \\x1b[38;5;241m*\\x1b[39margs):\\n\\x1b[1;32m   1377\\x1b[0m   \\x1b[38;5;28;01mtry\\x1b[39;00m:\\n\\x1b[0;32m-> 1378\\x1b[0m     \\x1b[38;5;28;01mreturn\\x1b[39;00m \\x1b[43mfn\\x1b[49m\\x1b[43m(\\x1b[49m\\x1b[38;5;241;43m*\\x1b[39;49m\\x1b[43margs\\x1b[49m\\x1b[43m)\\x1b[49m\\n\\x1b[1;32m   1379\\x1b[0m   \\x1b[38;5;28;01mexcept\\x1b[39;00m errors\\x1b[38;5;241m.\\x1b[39mOpError \\x1b[38;5;28;01mas\\x1b[39;00m e:\\n\\x1b[1;32m   1380\\x1b[0m     message \\x1b[38;5;241m=\\x1b[39m compat\\x1b[38;5;241m.\\x1b[39mas_text(e\\x1b[38;5;241m.\\x1b[39mmessage)\\n\\nFile \\x1b[0;32m~/miniconda3/envs/sniffbat/lib/python3.10/site-packages/tensorflow/python/client/session.py:1361\\x1b[0m, in \\x1b[0;36mBaseSession._do_run.<locals>._run_fn\\x1b[0;34m(feed_dict, fetch_list, target_list, options, run_metadata)\\x1b[0m\\n\\x1b[1;32m   1358\\x1b[0m \\x1b[38;5;28;01mdef\\x1b[39;00m \\x1b[38;5;21m_run_fn\\x1b[39m(feed_dict, fetch_list, target_list, options, run_metadata):\\n\\x1b[1;32m   1359\\x1b[0m   \\x1b[38;5;66;03m# Ensure any changes to the graph are reflected in the runtime.\\x1b[39;00m\\n\\x1b[1;32m   1360\\x1b[0m   \\x1b[38;5;28mself\\x1b[39m\\x1b[38;5;241m.\\x1b[39m_extend_graph()\\n\\x1b[0;32m-> 1361\\x1b[0m   \\x1b[38;5;28;01mreturn\\x1b[39;00m \\x1b[38;5;28;43mself\\x1b[39;49m\\x1b[38;5;241;43m.\\x1b[39;49m\\x1b[43m_call_tf_sessionrun\\x1b[49m\\x1b[43m(\\x1b[49m\\x1b[43moptions\\x1b[49m\\x1b[43m,\\x1b[49m\\x1b[43m \\x1b[49m\\x1b[43mfeed_dict\\x1b[49m\\x1b[43m,\\x1b[49m\\x1b[43m \\x1b[49m\\x1b[43mfetch_list\\x1b[49m\\x1b[43m,\\x1b[49m\\n\\x1b[1;32m   1362\\x1b[0m \\x1b[43m                                  \\x1b[49m\\x1b[43mtarget_list\\x1b[49m\\x1b[43m,\\x1b[49m\\x1b[43m \\x1b[49m\\x1b[43mrun_metadata\\x1b[49m\\x1b[43m)\\x1b[49m\\n\\nFile \\x1b[0;32m~/miniconda3/envs/sniffbat/lib/python3.10/site-packages/tensorflow/python/client/session.py:1454\\x1b[0m, in \\x1b[0;36mBaseSession._call_tf_sessionrun\\x1b[0;34m(self, options, feed_dict, fetch_list, target_list, run_metadata)\\x1b[0m\\n\\x1b[1;32m   1452\\x1b[0m \\x1b[38;5;28;01mdef\\x1b[39;00m \\x1b[38;5;21m_call_tf_sessionrun\\x1b[39m(\\x1b[38;5;28mself\\x1b[39m, options, feed_dict, fetch_list, target_list,\\n\\x1b[1;32m   1453\\x1b[0m                         run_metadata):\\n\\x1b[0;32m-> 1454\\x1b[0m   \\x1b[38;5;28;01mreturn\\x1b[39;00m \\x1b[43mtf_session\\x1b[49m\\x1b[38;5;241;43m.\\x1b[39;49m\\x1b[43mTF_SessionRun_wrapper\\x1b[49m\\x1b[43m(\\x1b[49m\\x1b[38;5;28;43mself\\x1b[39;49m\\x1b[38;5;241;43m.\\x1b[39;49m\\x1b[43m_session\\x1b[49m\\x1b[43m,\\x1b[49m\\x1b[43m \\x1b[49m\\x1b[43moptions\\x1b[49m\\x1b[43m,\\x1b[49m\\x1b[43m \\x1b[49m\\x1b[43mfeed_dict\\x1b[49m\\x1b[43m,\\x1b[49m\\n\\x1b[1;32m   1455\\x1b[0m \\x1b[43m                                          \\x1b[49m\\x1b[43mfetch_list\\x1b[49m\\x1b[43m,\\x1b[49m\\x1b[43m \\x1b[49m\\x1b[43mtarget_list\\x1b[49m\\x1b[43m,\\x1b[49m\\n\\x1b[1;32m   1456\\x1b[0m \\x1b[43m                                          \\x1b[49m\\x1b[43mrun_metadata\\x1b[49m\\x1b[43m)\\x1b[49m\\n\\n\\x1b[0;31mKeyboardInterrupt\\x1b[0m: \\nKeyboardInterrupt: \\n')>\n",
      "Traceback (most recent call last):\n",
      "  File \"/home/batlab/miniconda3/envs/sniffbat/lib/python3.10/asyncio/tasks.py\", line 232, in __step\n",
      "    result = coro.send(None)\n",
      "  File \"/home/batlab/miniconda3/envs/sniffbat/lib/python3.10/site-packages/nbclient/client.py\", line 1019, in async_execute_cell\n",
      "    await self._check_raise_for_error(cell, cell_index, exec_reply)\n",
      "  File \"/home/batlab/miniconda3/envs/sniffbat/lib/python3.10/site-packages/nbclient/client.py\", line 913, in _check_raise_for_error\n",
      "    raise CellExecutionError.from_cell_and_msg(cell, exec_reply_content)\n",
      "nbclient.exceptions.CellExecutionError: An error occurred while executing the following cell:\n",
      "------------------\n",
      "deeplabcut.analyze_videos(config_path, \n",
      "                          [video_path], \n",
      "                          videotype='.mp4', \n",
      "                          identity_only=True, \n",
      "                          auto_track=False)\n",
      "------------------\n",
      "\n",
      "\u001b[0;31m---------------------------------------------------------------------------\u001b[0m\n",
      "\u001b[0;31mKeyboardInterrupt\u001b[0m                         Traceback (most recent call last)\n",
      "Cell \u001b[0;32mIn [8], line 1\u001b[0m\n",
      "\u001b[0;32m----> 1\u001b[0m \u001b[43mdeeplabcut\u001b[49m\u001b[38;5;241;43m.\u001b[39;49m\u001b[43manalyze_videos\u001b[49m\u001b[43m(\u001b[49m\u001b[43mconfig_path\u001b[49m\u001b[43m,\u001b[49m\u001b[43m \u001b[49m\n",
      "\u001b[1;32m      2\u001b[0m \u001b[43m                          \u001b[49m\u001b[43m[\u001b[49m\u001b[43mvideo_path\u001b[49m\u001b[43m]\u001b[49m\u001b[43m,\u001b[49m\u001b[43m \u001b[49m\n",
      "\u001b[1;32m      3\u001b[0m \u001b[43m                          \u001b[49m\u001b[43mvideotype\u001b[49m\u001b[38;5;241;43m=\u001b[39;49m\u001b[38;5;124;43m'\u001b[39;49m\u001b[38;5;124;43m.mp4\u001b[39;49m\u001b[38;5;124;43m'\u001b[39;49m\u001b[43m,\u001b[49m\u001b[43m \u001b[49m\n",
      "\u001b[1;32m      4\u001b[0m \u001b[43m                          \u001b[49m\u001b[43midentity_only\u001b[49m\u001b[38;5;241;43m=\u001b[39;49m\u001b[38;5;28;43;01mTrue\u001b[39;49;00m\u001b[43m,\u001b[49m\u001b[43m \u001b[49m\n",
      "\u001b[1;32m      5\u001b[0m \u001b[43m                          \u001b[49m\u001b[43mauto_track\u001b[49m\u001b[38;5;241;43m=\u001b[39;49m\u001b[38;5;28;43;01mFalse\u001b[39;49;00m\u001b[43m)\u001b[49m\n",
      "\n",
      "File \u001b[0;32m~/miniconda3/envs/sniffbat/lib/python3.10/site-packages/deeplabcut/pose_estimation_tensorflow/predict_videos.py:626\u001b[0m, in \u001b[0;36manalyze_videos\u001b[0;34m(config, videos, videotype, shuffle, trainingsetindex, gputouse, save_as_csv, in_random_order, destfolder, batchsize, cropping, TFGPUinference, dynamic, modelprefix, robust_nframes, allow_growth, use_shelve, auto_track, n_tracks, calibrate, identity_only, use_openvino)\u001b[0m\n",
      "\u001b[1;32m    621\u001b[0m \u001b[38;5;28;01mfrom\u001b[39;00m \u001b[38;5;21;01mdeeplabcut\u001b[39;00m\u001b[38;5;21;01m.\u001b[39;00m\u001b[38;5;21;01mpose_estimation_tensorflow\u001b[39;00m\u001b[38;5;21;01m.\u001b[39;00m\u001b[38;5;21;01mpredict_multianimal\u001b[39;00m \u001b[38;5;28;01mimport\u001b[39;00m (\n",
      "\u001b[1;32m    622\u001b[0m     AnalyzeMultiAnimalVideo,\n",
      "\u001b[1;32m    623\u001b[0m )\n",
      "\u001b[1;32m    625\u001b[0m \u001b[38;5;28;01mfor\u001b[39;00m video \u001b[38;5;129;01min\u001b[39;00m Videos:\n",
      "\u001b[0;32m--> 626\u001b[0m     \u001b[43mAnalyzeMultiAnimalVideo\u001b[49m\u001b[43m(\u001b[49m\n",
      "\u001b[1;32m    627\u001b[0m \u001b[43m        \u001b[49m\u001b[43mvideo\u001b[49m\u001b[43m,\u001b[49m\n",
      "\u001b[1;32m    628\u001b[0m \u001b[43m        \u001b[49m\u001b[43mDLCscorer\u001b[49m\u001b[43m,\u001b[49m\n",
      "\u001b[1;32m    629\u001b[0m \u001b[43m        \u001b[49m\u001b[43mtrainFraction\u001b[49m\u001b[43m,\u001b[49m\n",
      "\u001b[1;32m    630\u001b[0m \u001b[43m        \u001b[49m\u001b[43mcfg\u001b[49m\u001b[43m,\u001b[49m\n",
      "\u001b[1;32m    631\u001b[0m \u001b[43m        \u001b[49m\u001b[43mdlc_cfg\u001b[49m\u001b[43m,\u001b[49m\n",
      "\u001b[1;32m    632\u001b[0m \u001b[43m        \u001b[49m\u001b[43msess\u001b[49m\u001b[43m,\u001b[49m\n",
      "\u001b[1;32m    633\u001b[0m \u001b[43m        \u001b[49m\u001b[43minputs\u001b[49m\u001b[43m,\u001b[49m\n",
      "\u001b[1;32m    634\u001b[0m \u001b[43m        \u001b[49m\u001b[43moutputs\u001b[49m\u001b[43m,\u001b[49m\n",
      "\u001b[1;32m    635\u001b[0m \u001b[43m        \u001b[49m\u001b[43mdestfolder\u001b[49m\u001b[43m,\u001b[49m\n",
      "\u001b[1;32m    636\u001b[0m \u001b[43m        \u001b[49m\u001b[43mrobust_nframes\u001b[49m\u001b[38;5;241;43m=\u001b[39;49m\u001b[43mrobust_nframes\u001b[49m\u001b[43m,\u001b[49m\n",
      "\u001b[1;32m    637\u001b[0m \u001b[43m        \u001b[49m\u001b[43muse_shelve\u001b[49m\u001b[38;5;241;43m=\u001b[39;49m\u001b[43muse_shelve\u001b[49m\u001b[43m,\u001b[49m\n",
      "\u001b[1;32m    638\u001b[0m \u001b[43m    \u001b[49m\u001b[43m)\u001b[49m\n",
      "\u001b[1;32m    639\u001b[0m     \u001b[38;5;28;01mif\u001b[39;00m auto_track:  \u001b[38;5;66;03m# tracker type is taken from default in cfg\u001b[39;00m\n",
      "\u001b[1;32m    640\u001b[0m         convert_detections2tracklets(\n",
      "\u001b[1;32m    641\u001b[0m             config,\n",
      "\u001b[1;32m    642\u001b[0m             [video],\n",
      "\u001b[0;32m   (...)\u001b[0m\n",
      "\u001b[1;32m    649\u001b[0m             identity_only\u001b[38;5;241m=\u001b[39midentity_only,\n",
      "\u001b[1;32m    650\u001b[0m         )\n",
      "\n",
      "File \u001b[0;32m~/miniconda3/envs/sniffbat/lib/python3.10/site-packages/deeplabcut/pose_estimation_tensorflow/predict_multianimal.py:172\u001b[0m, in \u001b[0;36mAnalyzeMultiAnimalVideo\u001b[0;34m(video, DLCscorer, trainFraction, cfg, dlc_cfg, sess, inputs, outputs, destfolder, robust_nframes, use_shelve)\u001b[0m\n",
      "\u001b[1;32m    170\u001b[0m     shelf_path \u001b[38;5;241m=\u001b[39m \u001b[38;5;124m\"\u001b[39m\u001b[38;5;124m\"\u001b[39m\n",
      "\u001b[1;32m    171\u001b[0m \u001b[38;5;28;01mif\u001b[39;00m \u001b[38;5;28mint\u001b[39m(dlc_cfg[\u001b[38;5;124m\"\u001b[39m\u001b[38;5;124mbatch_size\u001b[39m\u001b[38;5;124m\"\u001b[39m]) \u001b[38;5;241m>\u001b[39m \u001b[38;5;241m1\u001b[39m:\n",
      "\u001b[0;32m--> 172\u001b[0m     PredicteData, nframes \u001b[38;5;241m=\u001b[39m \u001b[43mGetPoseandCostsF\u001b[49m\u001b[43m(\u001b[49m\n",
      "\u001b[1;32m    173\u001b[0m \u001b[43m        \u001b[49m\u001b[43mcfg\u001b[49m\u001b[43m,\u001b[49m\n",
      "\u001b[1;32m    174\u001b[0m \u001b[43m        \u001b[49m\u001b[43mdlc_cfg\u001b[49m\u001b[43m,\u001b[49m\n",
      "\u001b[1;32m    175\u001b[0m \u001b[43m        \u001b[49m\u001b[43msess\u001b[49m\u001b[43m,\u001b[49m\n",
      "\u001b[1;32m    176\u001b[0m \u001b[43m        \u001b[49m\u001b[43minputs\u001b[49m\u001b[43m,\u001b[49m\n",
      "\u001b[1;32m    177\u001b[0m \u001b[43m        \u001b[49m\u001b[43moutputs\u001b[49m\u001b[43m,\u001b[49m\n",
      "\u001b[1;32m    178\u001b[0m \u001b[43m        \u001b[49m\u001b[43mvid\u001b[49m\u001b[43m,\u001b[49m\n",
      "\u001b[1;32m    179\u001b[0m \u001b[43m        \u001b[49m\u001b[43mnframes\u001b[49m\u001b[43m,\u001b[49m\n",
      "\u001b[1;32m    180\u001b[0m \u001b[43m        \u001b[49m\u001b[38;5;28;43mint\u001b[39;49m\u001b[43m(\u001b[49m\u001b[43mdlc_cfg\u001b[49m\u001b[43m[\u001b[49m\u001b[38;5;124;43m\"\u001b[39;49m\u001b[38;5;124;43mbatch_size\u001b[39;49m\u001b[38;5;124;43m\"\u001b[39;49m\u001b[43m]\u001b[49m\u001b[43m)\u001b[49m\u001b[43m,\u001b[49m\n",
      "\u001b[1;32m    181\u001b[0m \u001b[43m        \u001b[49m\u001b[43mshelf_path\u001b[49m\u001b[43m,\u001b[49m\n",
      "\u001b[1;32m    182\u001b[0m \u001b[43m    \u001b[49m\u001b[43m)\u001b[49m\n",
      "\u001b[1;32m    183\u001b[0m \u001b[38;5;28;01melse\u001b[39;00m:\n",
      "\u001b[1;32m    184\u001b[0m     PredicteData, nframes \u001b[38;5;241m=\u001b[39m GetPoseandCostsS(\n",
      "\u001b[1;32m    185\u001b[0m         cfg,\n",
      "\u001b[1;32m    186\u001b[0m         dlc_cfg,\n",
      "\u001b[0;32m   (...)\u001b[0m\n",
      "\u001b[1;32m    192\u001b[0m         shelf_path,\n",
      "\u001b[1;32m    193\u001b[0m     )\n",
      "\n",
      "File \u001b[0;32m~/miniconda3/envs/sniffbat/lib/python3.10/site-packages/deeplabcut/pose_estimation_tensorflow/predict_multianimal.py:428\u001b[0m, in \u001b[0;36mGetPoseandCostsF\u001b[0;34m(cfg, dlc_cfg, sess, inputs, outputs, cap, nframes, batchsize, shelf_path)\u001b[0m\n",
      "\u001b[1;32m    426\u001b[0m inds\u001b[38;5;241m.\u001b[39mappend(counter)\n",
      "\u001b[1;32m    427\u001b[0m \u001b[38;5;28;01mif\u001b[39;00m batch_ind \u001b[38;5;241m==\u001b[39m batchsize \u001b[38;5;241m-\u001b[39m \u001b[38;5;241m1\u001b[39m:\n",
      "\u001b[0;32m--> 428\u001b[0m     D \u001b[38;5;241m=\u001b[39m \u001b[43mpredict\u001b[49m\u001b[38;5;241;43m.\u001b[39;49m\u001b[43mpredict_batched_peaks_and_costs\u001b[49m\u001b[43m(\u001b[49m\n",
      "\u001b[1;32m    429\u001b[0m \u001b[43m        \u001b[49m\u001b[43mdlc_cfg\u001b[49m\u001b[43m,\u001b[49m\n",
      "\u001b[1;32m    430\u001b[0m \u001b[43m        \u001b[49m\u001b[43mframes\u001b[49m\u001b[43m,\u001b[49m\n",
      "\u001b[1;32m    431\u001b[0m \u001b[43m        \u001b[49m\u001b[43msess\u001b[49m\u001b[43m,\u001b[49m\n",
      "\u001b[1;32m    432\u001b[0m \u001b[43m        \u001b[49m\u001b[43minputs\u001b[49m\u001b[43m,\u001b[49m\n",
      "\u001b[1;32m    433\u001b[0m \u001b[43m        \u001b[49m\u001b[43moutputs\u001b[49m\u001b[43m,\u001b[49m\n",
      "\u001b[1;32m    434\u001b[0m \u001b[43m    \u001b[49m\u001b[43m)\u001b[49m\n",
      "\u001b[1;32m    435\u001b[0m     \u001b[38;5;28;01mfor\u001b[39;00m ind, data \u001b[38;5;129;01min\u001b[39;00m \u001b[38;5;28mzip\u001b[39m(inds, D):\n",
      "\u001b[1;32m    436\u001b[0m         db[\u001b[38;5;124m\"\u001b[39m\u001b[38;5;124mframe\u001b[39m\u001b[38;5;124m\"\u001b[39m \u001b[38;5;241m+\u001b[39m \u001b[38;5;28mstr\u001b[39m(ind)\u001b[38;5;241m.\u001b[39mzfill(strwidth)] \u001b[38;5;241m=\u001b[39m data\n",
      "\n",
      "File \u001b[0;32m~/miniconda3/envs/sniffbat/lib/python3.10/site-packages/deeplabcut/pose_estimation_tensorflow/core/predict_multianimal.py:219\u001b[0m, in \u001b[0;36mpredict_batched_peaks_and_costs\u001b[0;34m(pose_cfg, images_batch, sess, inputs, outputs, peaks_gt, n_points, n_decimals, extra_dict)\u001b[0m\n",
      "\u001b[1;32m    216\u001b[0m \u001b[38;5;28;01mif\u001b[39;00m extra_dict:\n",
      "\u001b[1;32m    217\u001b[0m     features \u001b[38;5;241m=\u001b[39m sess\u001b[38;5;241m.\u001b[39mrun(extra_dict[\u001b[38;5;124m\"\u001b[39m\u001b[38;5;124mfeatures\u001b[39m\u001b[38;5;124m\"\u001b[39m], feed_dict\u001b[38;5;241m=\u001b[39m{inputs: images_batch})\n",
      "\u001b[0;32m--> 219\u001b[0m scmaps, locrefs, \u001b[38;5;241m*\u001b[39mpafs, peaks \u001b[38;5;241m=\u001b[39m \u001b[43msess\u001b[49m\u001b[38;5;241;43m.\u001b[39;49m\u001b[43mrun\u001b[49m\u001b[43m(\u001b[49m\u001b[43moutputs\u001b[49m\u001b[43m,\u001b[49m\u001b[43m \u001b[49m\u001b[43mfeed_dict\u001b[49m\u001b[38;5;241;43m=\u001b[39;49m\u001b[43m{\u001b[49m\u001b[43minputs\u001b[49m\u001b[43m:\u001b[49m\u001b[43m \u001b[49m\u001b[43mimages_batch\u001b[49m\u001b[43m}\u001b[49m\u001b[43m)\u001b[49m\n",
      "\u001b[1;32m    220\u001b[0m \u001b[38;5;28;01mif\u001b[39;00m \u001b[38;5;241m~\u001b[39mnp\u001b[38;5;241m.\u001b[39many(peaks):\n",
      "\u001b[1;32m    221\u001b[0m     \u001b[38;5;28;01mreturn\u001b[39;00m []\n",
      "\n",
      "File \u001b[0;32m~/miniconda3/envs/sniffbat/lib/python3.10/site-packages/tensorflow/python/client/session.py:968\u001b[0m, in \u001b[0;36mBaseSession.run\u001b[0;34m(self, fetches, feed_dict, options, run_metadata)\u001b[0m\n",
      "\u001b[1;32m    965\u001b[0m run_metadata_ptr \u001b[38;5;241m=\u001b[39m tf_session\u001b[38;5;241m.\u001b[39mTF_NewBuffer() \u001b[38;5;28;01mif\u001b[39;00m run_metadata \u001b[38;5;28;01melse\u001b[39;00m \u001b[38;5;28;01mNone\u001b[39;00m\n",
      "\u001b[1;32m    967\u001b[0m \u001b[38;5;28;01mtry\u001b[39;00m:\n",
      "\u001b[0;32m--> 968\u001b[0m   result \u001b[38;5;241m=\u001b[39m \u001b[38;5;28;43mself\u001b[39;49m\u001b[38;5;241;43m.\u001b[39;49m\u001b[43m_run\u001b[49m\u001b[43m(\u001b[49m\u001b[38;5;28;43;01mNone\u001b[39;49;00m\u001b[43m,\u001b[49m\u001b[43m \u001b[49m\u001b[43mfetches\u001b[49m\u001b[43m,\u001b[49m\u001b[43m \u001b[49m\u001b[43mfeed_dict\u001b[49m\u001b[43m,\u001b[49m\u001b[43m \u001b[49m\u001b[43moptions_ptr\u001b[49m\u001b[43m,\u001b[49m\n",
      "\u001b[1;32m    969\u001b[0m \u001b[43m                     \u001b[49m\u001b[43mrun_metadata_ptr\u001b[49m\u001b[43m)\u001b[49m\n",
      "\u001b[1;32m    970\u001b[0m   \u001b[38;5;28;01mif\u001b[39;00m run_metadata:\n",
      "\u001b[1;32m    971\u001b[0m     proto_data \u001b[38;5;241m=\u001b[39m tf_session\u001b[38;5;241m.\u001b[39mTF_GetBuffer(run_metadata_ptr)\n",
      "\n",
      "File \u001b[0;32m~/miniconda3/envs/sniffbat/lib/python3.10/site-packages/tensorflow/python/client/session.py:1191\u001b[0m, in \u001b[0;36mBaseSession._run\u001b[0;34m(self, handle, fetches, feed_dict, options, run_metadata)\u001b[0m\n",
      "\u001b[1;32m   1188\u001b[0m \u001b[38;5;66;03m# We only want to really perform the run if fetches or targets are provided,\u001b[39;00m\n",
      "\u001b[1;32m   1189\u001b[0m \u001b[38;5;66;03m# or if the call is a partial run that specifies feeds.\u001b[39;00m\n",
      "\u001b[1;32m   1190\u001b[0m \u001b[38;5;28;01mif\u001b[39;00m final_fetches \u001b[38;5;129;01mor\u001b[39;00m final_targets \u001b[38;5;129;01mor\u001b[39;00m (handle \u001b[38;5;129;01mand\u001b[39;00m feed_dict_tensor):\n",
      "\u001b[0;32m-> 1191\u001b[0m   results \u001b[38;5;241m=\u001b[39m \u001b[38;5;28;43mself\u001b[39;49m\u001b[38;5;241;43m.\u001b[39;49m\u001b[43m_do_run\u001b[49m\u001b[43m(\u001b[49m\u001b[43mhandle\u001b[49m\u001b[43m,\u001b[49m\u001b[43m \u001b[49m\u001b[43mfinal_targets\u001b[49m\u001b[43m,\u001b[49m\u001b[43m \u001b[49m\u001b[43mfinal_fetches\u001b[49m\u001b[43m,\u001b[49m\n",
      "\u001b[1;32m   1192\u001b[0m \u001b[43m                         \u001b[49m\u001b[43mfeed_dict_tensor\u001b[49m\u001b[43m,\u001b[49m\u001b[43m \u001b[49m\u001b[43moptions\u001b[49m\u001b[43m,\u001b[49m\u001b[43m \u001b[49m\u001b[43mrun_metadata\u001b[49m\u001b[43m)\u001b[49m\n",
      "\u001b[1;32m   1193\u001b[0m \u001b[38;5;28;01melse\u001b[39;00m:\n",
      "\u001b[1;32m   1194\u001b[0m   results \u001b[38;5;241m=\u001b[39m []\n",
      "\n",
      "File \u001b[0;32m~/miniconda3/envs/sniffbat/lib/python3.10/site-packages/tensorflow/python/client/session.py:1371\u001b[0m, in \u001b[0;36mBaseSession._do_run\u001b[0;34m(self, handle, target_list, fetch_list, feed_dict, options, run_metadata)\u001b[0m\n",
      "\u001b[1;32m   1368\u001b[0m   \u001b[38;5;28;01mreturn\u001b[39;00m \u001b[38;5;28mself\u001b[39m\u001b[38;5;241m.\u001b[39m_call_tf_sessionprun(handle, feed_dict, fetch_list)\n",
      "\u001b[1;32m   1370\u001b[0m \u001b[38;5;28;01mif\u001b[39;00m handle \u001b[38;5;129;01mis\u001b[39;00m \u001b[38;5;28;01mNone\u001b[39;00m:\n",
      "\u001b[0;32m-> 1371\u001b[0m   \u001b[38;5;28;01mreturn\u001b[39;00m \u001b[38;5;28;43mself\u001b[39;49m\u001b[38;5;241;43m.\u001b[39;49m\u001b[43m_do_call\u001b[49m\u001b[43m(\u001b[49m\u001b[43m_run_fn\u001b[49m\u001b[43m,\u001b[49m\u001b[43m \u001b[49m\u001b[43mfeeds\u001b[49m\u001b[43m,\u001b[49m\u001b[43m \u001b[49m\u001b[43mfetches\u001b[49m\u001b[43m,\u001b[49m\u001b[43m \u001b[49m\u001b[43mtargets\u001b[49m\u001b[43m,\u001b[49m\u001b[43m \u001b[49m\u001b[43moptions\u001b[49m\u001b[43m,\u001b[49m\n",
      "\u001b[1;32m   1372\u001b[0m \u001b[43m                       \u001b[49m\u001b[43mrun_metadata\u001b[49m\u001b[43m)\u001b[49m\n",
      "\u001b[1;32m   1373\u001b[0m \u001b[38;5;28;01melse\u001b[39;00m:\n",
      "\u001b[1;32m   1374\u001b[0m   \u001b[38;5;28;01mreturn\u001b[39;00m \u001b[38;5;28mself\u001b[39m\u001b[38;5;241m.\u001b[39m_do_call(_prun_fn, handle, feeds, fetches)\n",
      "\n",
      "File \u001b[0;32m~/miniconda3/envs/sniffbat/lib/python3.10/site-packages/tensorflow/python/client/session.py:1378\u001b[0m, in \u001b[0;36mBaseSession._do_call\u001b[0;34m(self, fn, *args)\u001b[0m\n",
      "\u001b[1;32m   1376\u001b[0m \u001b[38;5;28;01mdef\u001b[39;00m \u001b[38;5;21m_do_call\u001b[39m(\u001b[38;5;28mself\u001b[39m, fn, \u001b[38;5;241m*\u001b[39margs):\n",
      "\u001b[1;32m   1377\u001b[0m   \u001b[38;5;28;01mtry\u001b[39;00m:\n",
      "\u001b[0;32m-> 1378\u001b[0m     \u001b[38;5;28;01mreturn\u001b[39;00m \u001b[43mfn\u001b[49m\u001b[43m(\u001b[49m\u001b[38;5;241;43m*\u001b[39;49m\u001b[43margs\u001b[49m\u001b[43m)\u001b[49m\n",
      "\u001b[1;32m   1379\u001b[0m   \u001b[38;5;28;01mexcept\u001b[39;00m errors\u001b[38;5;241m.\u001b[39mOpError \u001b[38;5;28;01mas\u001b[39;00m e:\n",
      "\u001b[1;32m   1380\u001b[0m     message \u001b[38;5;241m=\u001b[39m compat\u001b[38;5;241m.\u001b[39mas_text(e\u001b[38;5;241m.\u001b[39mmessage)\n",
      "\n",
      "File \u001b[0;32m~/miniconda3/envs/sniffbat/lib/python3.10/site-packages/tensorflow/python/client/session.py:1361\u001b[0m, in \u001b[0;36mBaseSession._do_run.<locals>._run_fn\u001b[0;34m(feed_dict, fetch_list, target_list, options, run_metadata)\u001b[0m\n",
      "\u001b[1;32m   1358\u001b[0m \u001b[38;5;28;01mdef\u001b[39;00m \u001b[38;5;21m_run_fn\u001b[39m(feed_dict, fetch_list, target_list, options, run_metadata):\n",
      "\u001b[1;32m   1359\u001b[0m   \u001b[38;5;66;03m# Ensure any changes to the graph are reflected in the runtime.\u001b[39;00m\n",
      "\u001b[1;32m   1360\u001b[0m   \u001b[38;5;28mself\u001b[39m\u001b[38;5;241m.\u001b[39m_extend_graph()\n",
      "\u001b[0;32m-> 1361\u001b[0m   \u001b[38;5;28;01mreturn\u001b[39;00m \u001b[38;5;28;43mself\u001b[39;49m\u001b[38;5;241;43m.\u001b[39;49m\u001b[43m_call_tf_sessionrun\u001b[49m\u001b[43m(\u001b[49m\u001b[43moptions\u001b[49m\u001b[43m,\u001b[49m\u001b[43m \u001b[49m\u001b[43mfeed_dict\u001b[49m\u001b[43m,\u001b[49m\u001b[43m \u001b[49m\u001b[43mfetch_list\u001b[49m\u001b[43m,\u001b[49m\n",
      "\u001b[1;32m   1362\u001b[0m \u001b[43m                                  \u001b[49m\u001b[43mtarget_list\u001b[49m\u001b[43m,\u001b[49m\u001b[43m \u001b[49m\u001b[43mrun_metadata\u001b[49m\u001b[43m)\u001b[49m\n",
      "\n",
      "File \u001b[0;32m~/miniconda3/envs/sniffbat/lib/python3.10/site-packages/tensorflow/python/client/session.py:1454\u001b[0m, in \u001b[0;36mBaseSession._call_tf_sessionrun\u001b[0;34m(self, options, feed_dict, fetch_list, target_list, run_metadata)\u001b[0m\n",
      "\u001b[1;32m   1452\u001b[0m \u001b[38;5;28;01mdef\u001b[39;00m \u001b[38;5;21m_call_tf_sessionrun\u001b[39m(\u001b[38;5;28mself\u001b[39m, options, feed_dict, fetch_list, target_list,\n",
      "\u001b[1;32m   1453\u001b[0m                         run_metadata):\n",
      "\u001b[0;32m-> 1454\u001b[0m   \u001b[38;5;28;01mreturn\u001b[39;00m \u001b[43mtf_session\u001b[49m\u001b[38;5;241;43m.\u001b[39;49m\u001b[43mTF_SessionRun_wrapper\u001b[49m\u001b[43m(\u001b[49m\u001b[38;5;28;43mself\u001b[39;49m\u001b[38;5;241;43m.\u001b[39;49m\u001b[43m_session\u001b[49m\u001b[43m,\u001b[49m\u001b[43m \u001b[49m\u001b[43moptions\u001b[49m\u001b[43m,\u001b[49m\u001b[43m \u001b[49m\u001b[43mfeed_dict\u001b[49m\u001b[43m,\u001b[49m\n",
      "\u001b[1;32m   1455\u001b[0m \u001b[43m                                          \u001b[49m\u001b[43mfetch_list\u001b[49m\u001b[43m,\u001b[49m\u001b[43m \u001b[49m\u001b[43mtarget_list\u001b[49m\u001b[43m,\u001b[49m\n",
      "\u001b[1;32m   1456\u001b[0m \u001b[43m                                          \u001b[49m\u001b[43mrun_metadata\u001b[49m\u001b[43m)\u001b[49m\n",
      "\n",
      "\u001b[0;31mKeyboardInterrupt\u001b[0m: \n",
      "KeyboardInterrupt: \n",
      "\n"
     ]
    },
    {
     "name": "stderr",
     "output_type": "stream",
     "text": [
      "Task exception was never retrieved\n",
      "future: <Task finished name='Task-1618' coro=<NotebookClient.async_execute_cell() done, defined at /home/batlab/miniconda3/envs/sniffbat/lib/python3.10/site-packages/nbclient/client.py:915> exception=CellExecutionError('An error occurred while executing the following cell:\\n------------------\\ndeeplabcut.analyze_videos(config_path, \\n                          [video_path], \\n                          videotype=\\'.mp4\\', \\n                          identity_only=True, \\n                          auto_track=False)\\n------------------\\n\\n\\x1b[0;31m---------------------------------------------------------------------------\\x1b[0m\\n\\x1b[0;31mKeyboardInterrupt\\x1b[0m                         Traceback (most recent call last)\\nCell \\x1b[0;32mIn [8], line 1\\x1b[0m\\n\\x1b[0;32m----> 1\\x1b[0m \\x1b[43mdeeplabcut\\x1b[49m\\x1b[38;5;241;43m.\\x1b[39;49m\\x1b[43manalyze_videos\\x1b[49m\\x1b[43m(\\x1b[49m\\x1b[43mconfig_path\\x1b[49m\\x1b[43m,\\x1b[49m\\x1b[43m \\x1b[49m\\n\\x1b[1;32m      2\\x1b[0m \\x1b[43m                          \\x1b[49m\\x1b[43m[\\x1b[49m\\x1b[43mvideo_path\\x1b[49m\\x1b[43m]\\x1b[49m\\x1b[43m,\\x1b[49m\\x1b[43m \\x1b[49m\\n\\x1b[1;32m      3\\x1b[0m \\x1b[43m                          \\x1b[49m\\x1b[43mvideotype\\x1b[49m\\x1b[38;5;241;43m=\\x1b[39;49m\\x1b[38;5;124;43m\\'\\x1b[39;49m\\x1b[38;5;124;43m.mp4\\x1b[39;49m\\x1b[38;5;124;43m\\'\\x1b[39;49m\\x1b[43m,\\x1b[49m\\x1b[43m \\x1b[49m\\n\\x1b[1;32m      4\\x1b[0m \\x1b[43m                          \\x1b[49m\\x1b[43midentity_only\\x1b[49m\\x1b[38;5;241;43m=\\x1b[39;49m\\x1b[38;5;28;43;01mTrue\\x1b[39;49;00m\\x1b[43m,\\x1b[49m\\x1b[43m \\x1b[49m\\n\\x1b[1;32m      5\\x1b[0m \\x1b[43m                          \\x1b[49m\\x1b[43mauto_track\\x1b[49m\\x1b[38;5;241;43m=\\x1b[39;49m\\x1b[38;5;28;43;01mFalse\\x1b[39;49;00m\\x1b[43m)\\x1b[49m\\n\\nFile \\x1b[0;32m~/miniconda3/envs/sniffbat/lib/python3.10/site-packages/deeplabcut/pose_estimation_tensorflow/predict_videos.py:626\\x1b[0m, in \\x1b[0;36manalyze_videos\\x1b[0;34m(config, videos, videotype, shuffle, trainingsetindex, gputouse, save_as_csv, in_random_order, destfolder, batchsize, cropping, TFGPUinference, dynamic, modelprefix, robust_nframes, allow_growth, use_shelve, auto_track, n_tracks, calibrate, identity_only, use_openvino)\\x1b[0m\\n\\x1b[1;32m    621\\x1b[0m \\x1b[38;5;28;01mfrom\\x1b[39;00m \\x1b[38;5;21;01mdeeplabcut\\x1b[39;00m\\x1b[38;5;21;01m.\\x1b[39;00m\\x1b[38;5;21;01mpose_estimation_tensorflow\\x1b[39;00m\\x1b[38;5;21;01m.\\x1b[39;00m\\x1b[38;5;21;01mpredict_multianimal\\x1b[39;00m \\x1b[38;5;28;01mimport\\x1b[39;00m (\\n\\x1b[1;32m    622\\x1b[0m     AnalyzeMultiAnimalVideo,\\n\\x1b[1;32m    623\\x1b[0m )\\n\\x1b[1;32m    625\\x1b[0m \\x1b[38;5;28;01mfor\\x1b[39;00m video \\x1b[38;5;129;01min\\x1b[39;00m Videos:\\n\\x1b[0;32m--> 626\\x1b[0m     \\x1b[43mAnalyzeMultiAnimalVideo\\x1b[49m\\x1b[43m(\\x1b[49m\\n\\x1b[1;32m    627\\x1b[0m \\x1b[43m        \\x1b[49m\\x1b[43mvideo\\x1b[49m\\x1b[43m,\\x1b[49m\\n\\x1b[1;32m    628\\x1b[0m \\x1b[43m        \\x1b[49m\\x1b[43mDLCscorer\\x1b[49m\\x1b[43m,\\x1b[49m\\n\\x1b[1;32m    629\\x1b[0m \\x1b[43m        \\x1b[49m\\x1b[43mtrainFraction\\x1b[49m\\x1b[43m,\\x1b[49m\\n\\x1b[1;32m    630\\x1b[0m \\x1b[43m        \\x1b[49m\\x1b[43mcfg\\x1b[49m\\x1b[43m,\\x1b[49m\\n\\x1b[1;32m    631\\x1b[0m \\x1b[43m        \\x1b[49m\\x1b[43mdlc_cfg\\x1b[49m\\x1b[43m,\\x1b[49m\\n\\x1b[1;32m    632\\x1b[0m \\x1b[43m        \\x1b[49m\\x1b[43msess\\x1b[49m\\x1b[43m,\\x1b[49m\\n\\x1b[1;32m    633\\x1b[0m \\x1b[43m        \\x1b[49m\\x1b[43minputs\\x1b[49m\\x1b[43m,\\x1b[49m\\n\\x1b[1;32m    634\\x1b[0m \\x1b[43m        \\x1b[49m\\x1b[43moutputs\\x1b[49m\\x1b[43m,\\x1b[49m\\n\\x1b[1;32m    635\\x1b[0m \\x1b[43m        \\x1b[49m\\x1b[43mdestfolder\\x1b[49m\\x1b[43m,\\x1b[49m\\n\\x1b[1;32m    636\\x1b[0m \\x1b[43m        \\x1b[49m\\x1b[43mrobust_nframes\\x1b[49m\\x1b[38;5;241;43m=\\x1b[39;49m\\x1b[43mrobust_nframes\\x1b[49m\\x1b[43m,\\x1b[49m\\n\\x1b[1;32m    637\\x1b[0m \\x1b[43m        \\x1b[49m\\x1b[43muse_shelve\\x1b[49m\\x1b[38;5;241;43m=\\x1b[39;49m\\x1b[43muse_shelve\\x1b[49m\\x1b[43m,\\x1b[49m\\n\\x1b[1;32m    638\\x1b[0m \\x1b[43m    \\x1b[49m\\x1b[43m)\\x1b[49m\\n\\x1b[1;32m    639\\x1b[0m     \\x1b[38;5;28;01mif\\x1b[39;00m auto_track:  \\x1b[38;5;66;03m# tracker type is taken from default in cfg\\x1b[39;00m\\n\\x1b[1;32m    640\\x1b[0m         convert_detections2tracklets(\\n\\x1b[1;32m    641\\x1b[0m             config,\\n\\x1b[1;32m    642\\x1b[0m             [video],\\n\\x1b[0;32m   (...)\\x1b[0m\\n\\x1b[1;32m    649\\x1b[0m             identity_only\\x1b[38;5;241m=\\x1b[39midentity_only,\\n\\x1b[1;32m    650\\x1b[0m         )\\n\\nFile \\x1b[0;32m~/miniconda3/envs/sniffbat/lib/python3.10/site-packages/deeplabcut/pose_estimation_tensorflow/predict_multianimal.py:172\\x1b[0m, in \\x1b[0;36mAnalyzeMultiAnimalVideo\\x1b[0;34m(video, DLCscorer, trainFraction, cfg, dlc_cfg, sess, inputs, outputs, destfolder, robust_nframes, use_shelve)\\x1b[0m\\n\\x1b[1;32m    170\\x1b[0m     shelf_path \\x1b[38;5;241m=\\x1b[39m \\x1b[38;5;124m\"\\x1b[39m\\x1b[38;5;124m\"\\x1b[39m\\n\\x1b[1;32m    171\\x1b[0m \\x1b[38;5;28;01mif\\x1b[39;00m \\x1b[38;5;28mint\\x1b[39m(dlc_cfg[\\x1b[38;5;124m\"\\x1b[39m\\x1b[38;5;124mbatch_size\\x1b[39m\\x1b[38;5;124m\"\\x1b[39m]) \\x1b[38;5;241m>\\x1b[39m \\x1b[38;5;241m1\\x1b[39m:\\n\\x1b[0;32m--> 172\\x1b[0m     PredicteData, nframes \\x1b[38;5;241m=\\x1b[39m \\x1b[43mGetPoseandCostsF\\x1b[49m\\x1b[43m(\\x1b[49m\\n\\x1b[1;32m    173\\x1b[0m \\x1b[43m        \\x1b[49m\\x1b[43mcfg\\x1b[49m\\x1b[43m,\\x1b[49m\\n\\x1b[1;32m    174\\x1b[0m \\x1b[43m        \\x1b[49m\\x1b[43mdlc_cfg\\x1b[49m\\x1b[43m,\\x1b[49m\\n\\x1b[1;32m    175\\x1b[0m \\x1b[43m        \\x1b[49m\\x1b[43msess\\x1b[49m\\x1b[43m,\\x1b[49m\\n\\x1b[1;32m    176\\x1b[0m \\x1b[43m        \\x1b[49m\\x1b[43minputs\\x1b[49m\\x1b[43m,\\x1b[49m\\n\\x1b[1;32m    177\\x1b[0m \\x1b[43m        \\x1b[49m\\x1b[43moutputs\\x1b[49m\\x1b[43m,\\x1b[49m\\n\\x1b[1;32m    178\\x1b[0m \\x1b[43m        \\x1b[49m\\x1b[43mvid\\x1b[49m\\x1b[43m,\\x1b[49m\\n\\x1b[1;32m    179\\x1b[0m \\x1b[43m        \\x1b[49m\\x1b[43mnframes\\x1b[49m\\x1b[43m,\\x1b[49m\\n\\x1b[1;32m    180\\x1b[0m \\x1b[43m        \\x1b[49m\\x1b[38;5;28;43mint\\x1b[39;49m\\x1b[43m(\\x1b[49m\\x1b[43mdlc_cfg\\x1b[49m\\x1b[43m[\\x1b[49m\\x1b[38;5;124;43m\"\\x1b[39;49m\\x1b[38;5;124;43mbatch_size\\x1b[39;49m\\x1b[38;5;124;43m\"\\x1b[39;49m\\x1b[43m]\\x1b[49m\\x1b[43m)\\x1b[49m\\x1b[43m,\\x1b[49m\\n\\x1b[1;32m    181\\x1b[0m \\x1b[43m        \\x1b[49m\\x1b[43mshelf_path\\x1b[49m\\x1b[43m,\\x1b[49m\\n\\x1b[1;32m    182\\x1b[0m \\x1b[43m    \\x1b[49m\\x1b[43m)\\x1b[49m\\n\\x1b[1;32m    183\\x1b[0m \\x1b[38;5;28;01melse\\x1b[39;00m:\\n\\x1b[1;32m    184\\x1b[0m     PredicteData, nframes \\x1b[38;5;241m=\\x1b[39m GetPoseandCostsS(\\n\\x1b[1;32m    185\\x1b[0m         cfg,\\n\\x1b[1;32m    186\\x1b[0m         dlc_cfg,\\n\\x1b[0;32m   (...)\\x1b[0m\\n\\x1b[1;32m    192\\x1b[0m         shelf_path,\\n\\x1b[1;32m    193\\x1b[0m     )\\n\\nFile \\x1b[0;32m~/miniconda3/envs/sniffbat/lib/python3.10/site-packages/deeplabcut/pose_estimation_tensorflow/predict_multianimal.py:428\\x1b[0m, in \\x1b[0;36mGetPoseandCostsF\\x1b[0;34m(cfg, dlc_cfg, sess, inputs, outputs, cap, nframes, batchsize, shelf_path)\\x1b[0m\\n\\x1b[1;32m    426\\x1b[0m inds\\x1b[38;5;241m.\\x1b[39mappend(counter)\\n\\x1b[1;32m    427\\x1b[0m \\x1b[38;5;28;01mif\\x1b[39;00m batch_ind \\x1b[38;5;241m==\\x1b[39m batchsize \\x1b[38;5;241m-\\x1b[39m \\x1b[38;5;241m1\\x1b[39m:\\n\\x1b[0;32m--> 428\\x1b[0m     D \\x1b[38;5;241m=\\x1b[39m \\x1b[43mpredict\\x1b[49m\\x1b[38;5;241;43m.\\x1b[39;49m\\x1b[43mpredict_batched_peaks_and_costs\\x1b[49m\\x1b[43m(\\x1b[49m\\n\\x1b[1;32m    429\\x1b[0m \\x1b[43m        \\x1b[49m\\x1b[43mdlc_cfg\\x1b[49m\\x1b[43m,\\x1b[49m\\n\\x1b[1;32m    430\\x1b[0m \\x1b[43m        \\x1b[49m\\x1b[43mframes\\x1b[49m\\x1b[43m,\\x1b[49m\\n\\x1b[1;32m    431\\x1b[0m \\x1b[43m        \\x1b[49m\\x1b[43msess\\x1b[49m\\x1b[43m,\\x1b[49m\\n\\x1b[1;32m    432\\x1b[0m \\x1b[43m        \\x1b[49m\\x1b[43minputs\\x1b[49m\\x1b[43m,\\x1b[49m\\n\\x1b[1;32m    433\\x1b[0m \\x1b[43m        \\x1b[49m\\x1b[43moutputs\\x1b[49m\\x1b[43m,\\x1b[49m\\n\\x1b[1;32m    434\\x1b[0m \\x1b[43m    \\x1b[49m\\x1b[43m)\\x1b[49m\\n\\x1b[1;32m    435\\x1b[0m     \\x1b[38;5;28;01mfor\\x1b[39;00m ind, data \\x1b[38;5;129;01min\\x1b[39;00m \\x1b[38;5;28mzip\\x1b[39m(inds, D):\\n\\x1b[1;32m    436\\x1b[0m         db[\\x1b[38;5;124m\"\\x1b[39m\\x1b[38;5;124mframe\\x1b[39m\\x1b[38;5;124m\"\\x1b[39m \\x1b[38;5;241m+\\x1b[39m \\x1b[38;5;28mstr\\x1b[39m(ind)\\x1b[38;5;241m.\\x1b[39mzfill(strwidth)] \\x1b[38;5;241m=\\x1b[39m data\\n\\nFile \\x1b[0;32m~/miniconda3/envs/sniffbat/lib/python3.10/site-packages/deeplabcut/pose_estimation_tensorflow/core/predict_multianimal.py:219\\x1b[0m, in \\x1b[0;36mpredict_batched_peaks_and_costs\\x1b[0;34m(pose_cfg, images_batch, sess, inputs, outputs, peaks_gt, n_points, n_decimals, extra_dict)\\x1b[0m\\n\\x1b[1;32m    216\\x1b[0m \\x1b[38;5;28;01mif\\x1b[39;00m extra_dict:\\n\\x1b[1;32m    217\\x1b[0m     features \\x1b[38;5;241m=\\x1b[39m sess\\x1b[38;5;241m.\\x1b[39mrun(extra_dict[\\x1b[38;5;124m\"\\x1b[39m\\x1b[38;5;124mfeatures\\x1b[39m\\x1b[38;5;124m\"\\x1b[39m], feed_dict\\x1b[38;5;241m=\\x1b[39m{inputs: images_batch})\\n\\x1b[0;32m--> 219\\x1b[0m scmaps, locrefs, \\x1b[38;5;241m*\\x1b[39mpafs, peaks \\x1b[38;5;241m=\\x1b[39m \\x1b[43msess\\x1b[49m\\x1b[38;5;241;43m.\\x1b[39;49m\\x1b[43mrun\\x1b[49m\\x1b[43m(\\x1b[49m\\x1b[43moutputs\\x1b[49m\\x1b[43m,\\x1b[49m\\x1b[43m \\x1b[49m\\x1b[43mfeed_dict\\x1b[49m\\x1b[38;5;241;43m=\\x1b[39;49m\\x1b[43m{\\x1b[49m\\x1b[43minputs\\x1b[49m\\x1b[43m:\\x1b[49m\\x1b[43m \\x1b[49m\\x1b[43mimages_batch\\x1b[49m\\x1b[43m}\\x1b[49m\\x1b[43m)\\x1b[49m\\n\\x1b[1;32m    220\\x1b[0m \\x1b[38;5;28;01mif\\x1b[39;00m \\x1b[38;5;241m~\\x1b[39mnp\\x1b[38;5;241m.\\x1b[39many(peaks):\\n\\x1b[1;32m    221\\x1b[0m     \\x1b[38;5;28;01mreturn\\x1b[39;00m []\\n\\nFile \\x1b[0;32m~/miniconda3/envs/sniffbat/lib/python3.10/site-packages/tensorflow/python/client/session.py:968\\x1b[0m, in \\x1b[0;36mBaseSession.run\\x1b[0;34m(self, fetches, feed_dict, options, run_metadata)\\x1b[0m\\n\\x1b[1;32m    965\\x1b[0m run_metadata_ptr \\x1b[38;5;241m=\\x1b[39m tf_session\\x1b[38;5;241m.\\x1b[39mTF_NewBuffer() \\x1b[38;5;28;01mif\\x1b[39;00m run_metadata \\x1b[38;5;28;01melse\\x1b[39;00m \\x1b[38;5;28;01mNone\\x1b[39;00m\\n\\x1b[1;32m    967\\x1b[0m \\x1b[38;5;28;01mtry\\x1b[39;00m:\\n\\x1b[0;32m--> 968\\x1b[0m   result \\x1b[38;5;241m=\\x1b[39m \\x1b[38;5;28;43mself\\x1b[39;49m\\x1b[38;5;241;43m.\\x1b[39;49m\\x1b[43m_run\\x1b[49m\\x1b[43m(\\x1b[49m\\x1b[38;5;28;43;01mNone\\x1b[39;49;00m\\x1b[43m,\\x1b[49m\\x1b[43m \\x1b[49m\\x1b[43mfetches\\x1b[49m\\x1b[43m,\\x1b[49m\\x1b[43m \\x1b[49m\\x1b[43mfeed_dict\\x1b[49m\\x1b[43m,\\x1b[49m\\x1b[43m \\x1b[49m\\x1b[43moptions_ptr\\x1b[49m\\x1b[43m,\\x1b[49m\\n\\x1b[1;32m    969\\x1b[0m \\x1b[43m                     \\x1b[49m\\x1b[43mrun_metadata_ptr\\x1b[49m\\x1b[43m)\\x1b[49m\\n\\x1b[1;32m    970\\x1b[0m   \\x1b[38;5;28;01mif\\x1b[39;00m run_metadata:\\n\\x1b[1;32m    971\\x1b[0m     proto_data \\x1b[38;5;241m=\\x1b[39m tf_session\\x1b[38;5;241m.\\x1b[39mTF_GetBuffer(run_metadata_ptr)\\n\\nFile \\x1b[0;32m~/miniconda3/envs/sniffbat/lib/python3.10/site-packages/tensorflow/python/client/session.py:1191\\x1b[0m, in \\x1b[0;36mBaseSession._run\\x1b[0;34m(self, handle, fetches, feed_dict, options, run_metadata)\\x1b[0m\\n\\x1b[1;32m   1188\\x1b[0m \\x1b[38;5;66;03m# We only want to really perform the run if fetches or targets are provided,\\x1b[39;00m\\n\\x1b[1;32m   1189\\x1b[0m \\x1b[38;5;66;03m# or if the call is a partial run that specifies feeds.\\x1b[39;00m\\n\\x1b[1;32m   1190\\x1b[0m \\x1b[38;5;28;01mif\\x1b[39;00m final_fetches \\x1b[38;5;129;01mor\\x1b[39;00m final_targets \\x1b[38;5;129;01mor\\x1b[39;00m (handle \\x1b[38;5;129;01mand\\x1b[39;00m feed_dict_tensor):\\n\\x1b[0;32m-> 1191\\x1b[0m   results \\x1b[38;5;241m=\\x1b[39m \\x1b[38;5;28;43mself\\x1b[39;49m\\x1b[38;5;241;43m.\\x1b[39;49m\\x1b[43m_do_run\\x1b[49m\\x1b[43m(\\x1b[49m\\x1b[43mhandle\\x1b[49m\\x1b[43m,\\x1b[49m\\x1b[43m \\x1b[49m\\x1b[43mfinal_targets\\x1b[49m\\x1b[43m,\\x1b[49m\\x1b[43m \\x1b[49m\\x1b[43mfinal_fetches\\x1b[49m\\x1b[43m,\\x1b[49m\\n\\x1b[1;32m   1192\\x1b[0m \\x1b[43m                         \\x1b[49m\\x1b[43mfeed_dict_tensor\\x1b[49m\\x1b[43m,\\x1b[49m\\x1b[43m \\x1b[49m\\x1b[43moptions\\x1b[49m\\x1b[43m,\\x1b[49m\\x1b[43m \\x1b[49m\\x1b[43mrun_metadata\\x1b[49m\\x1b[43m)\\x1b[49m\\n\\x1b[1;32m   1193\\x1b[0m \\x1b[38;5;28;01melse\\x1b[39;00m:\\n\\x1b[1;32m   1194\\x1b[0m   results \\x1b[38;5;241m=\\x1b[39m []\\n\\nFile \\x1b[0;32m~/miniconda3/envs/sniffbat/lib/python3.10/site-packages/tensorflow/python/client/session.py:1371\\x1b[0m, in \\x1b[0;36mBaseSession._do_run\\x1b[0;34m(self, handle, target_list, fetch_list, feed_dict, options, run_metadata)\\x1b[0m\\n\\x1b[1;32m   1368\\x1b[0m   \\x1b[38;5;28;01mreturn\\x1b[39;00m \\x1b[38;5;28mself\\x1b[39m\\x1b[38;5;241m.\\x1b[39m_call_tf_sessionprun(handle, feed_dict, fetch_list)\\n\\x1b[1;32m   1370\\x1b[0m \\x1b[38;5;28;01mif\\x1b[39;00m handle \\x1b[38;5;129;01mis\\x1b[39;00m \\x1b[38;5;28;01mNone\\x1b[39;00m:\\n\\x1b[0;32m-> 1371\\x1b[0m   \\x1b[38;5;28;01mreturn\\x1b[39;00m \\x1b[38;5;28;43mself\\x1b[39;49m\\x1b[38;5;241;43m.\\x1b[39;49m\\x1b[43m_do_call\\x1b[49m\\x1b[43m(\\x1b[49m\\x1b[43m_run_fn\\x1b[49m\\x1b[43m,\\x1b[49m\\x1b[43m \\x1b[49m\\x1b[43mfeeds\\x1b[49m\\x1b[43m,\\x1b[49m\\x1b[43m \\x1b[49m\\x1b[43mfetches\\x1b[49m\\x1b[43m,\\x1b[49m\\x1b[43m \\x1b[49m\\x1b[43mtargets\\x1b[49m\\x1b[43m,\\x1b[49m\\x1b[43m \\x1b[49m\\x1b[43moptions\\x1b[49m\\x1b[43m,\\x1b[49m\\n\\x1b[1;32m   1372\\x1b[0m \\x1b[43m                       \\x1b[49m\\x1b[43mrun_metadata\\x1b[49m\\x1b[43m)\\x1b[49m\\n\\x1b[1;32m   1373\\x1b[0m \\x1b[38;5;28;01melse\\x1b[39;00m:\\n\\x1b[1;32m   1374\\x1b[0m   \\x1b[38;5;28;01mreturn\\x1b[39;00m \\x1b[38;5;28mself\\x1b[39m\\x1b[38;5;241m.\\x1b[39m_do_call(_prun_fn, handle, feeds, fetches)\\n\\nFile \\x1b[0;32m~/miniconda3/envs/sniffbat/lib/python3.10/site-packages/tensorflow/python/client/session.py:1378\\x1b[0m, in \\x1b[0;36mBaseSession._do_call\\x1b[0;34m(self, fn, *args)\\x1b[0m\\n\\x1b[1;32m   1376\\x1b[0m \\x1b[38;5;28;01mdef\\x1b[39;00m \\x1b[38;5;21m_do_call\\x1b[39m(\\x1b[38;5;28mself\\x1b[39m, fn, \\x1b[38;5;241m*\\x1b[39margs):\\n\\x1b[1;32m   1377\\x1b[0m   \\x1b[38;5;28;01mtry\\x1b[39;00m:\\n\\x1b[0;32m-> 1378\\x1b[0m     \\x1b[38;5;28;01mreturn\\x1b[39;00m \\x1b[43mfn\\x1b[49m\\x1b[43m(\\x1b[49m\\x1b[38;5;241;43m*\\x1b[39;49m\\x1b[43margs\\x1b[49m\\x1b[43m)\\x1b[49m\\n\\x1b[1;32m   1379\\x1b[0m   \\x1b[38;5;28;01mexcept\\x1b[39;00m errors\\x1b[38;5;241m.\\x1b[39mOpError \\x1b[38;5;28;01mas\\x1b[39;00m e:\\n\\x1b[1;32m   1380\\x1b[0m     message \\x1b[38;5;241m=\\x1b[39m compat\\x1b[38;5;241m.\\x1b[39mas_text(e\\x1b[38;5;241m.\\x1b[39mmessage)\\n\\nFile \\x1b[0;32m~/miniconda3/envs/sniffbat/lib/python3.10/site-packages/tensorflow/python/client/session.py:1361\\x1b[0m, in \\x1b[0;36mBaseSession._do_run.<locals>._run_fn\\x1b[0;34m(feed_dict, fetch_list, target_list, options, run_metadata)\\x1b[0m\\n\\x1b[1;32m   1358\\x1b[0m \\x1b[38;5;28;01mdef\\x1b[39;00m \\x1b[38;5;21m_run_fn\\x1b[39m(feed_dict, fetch_list, target_list, options, run_metadata):\\n\\x1b[1;32m   1359\\x1b[0m   \\x1b[38;5;66;03m# Ensure any changes to the graph are reflected in the runtime.\\x1b[39;00m\\n\\x1b[1;32m   1360\\x1b[0m   \\x1b[38;5;28mself\\x1b[39m\\x1b[38;5;241m.\\x1b[39m_extend_graph()\\n\\x1b[0;32m-> 1361\\x1b[0m   \\x1b[38;5;28;01mreturn\\x1b[39;00m \\x1b[38;5;28;43mself\\x1b[39;49m\\x1b[38;5;241;43m.\\x1b[39;49m\\x1b[43m_call_tf_sessionrun\\x1b[49m\\x1b[43m(\\x1b[49m\\x1b[43moptions\\x1b[49m\\x1b[43m,\\x1b[49m\\x1b[43m \\x1b[49m\\x1b[43mfeed_dict\\x1b[49m\\x1b[43m,\\x1b[49m\\x1b[43m \\x1b[49m\\x1b[43mfetch_list\\x1b[49m\\x1b[43m,\\x1b[49m\\n\\x1b[1;32m   1362\\x1b[0m \\x1b[43m                                  \\x1b[49m\\x1b[43mtarget_list\\x1b[49m\\x1b[43m,\\x1b[49m\\x1b[43m \\x1b[49m\\x1b[43mrun_metadata\\x1b[49m\\x1b[43m)\\x1b[49m\\n\\nFile \\x1b[0;32m~/miniconda3/envs/sniffbat/lib/python3.10/site-packages/tensorflow/python/client/session.py:1454\\x1b[0m, in \\x1b[0;36mBaseSession._call_tf_sessionrun\\x1b[0;34m(self, options, feed_dict, fetch_list, target_list, run_metadata)\\x1b[0m\\n\\x1b[1;32m   1452\\x1b[0m \\x1b[38;5;28;01mdef\\x1b[39;00m \\x1b[38;5;21m_call_tf_sessionrun\\x1b[39m(\\x1b[38;5;28mself\\x1b[39m, options, feed_dict, fetch_list, target_list,\\n\\x1b[1;32m   1453\\x1b[0m                         run_metadata):\\n\\x1b[0;32m-> 1454\\x1b[0m   \\x1b[38;5;28;01mreturn\\x1b[39;00m \\x1b[43mtf_session\\x1b[49m\\x1b[38;5;241;43m.\\x1b[39;49m\\x1b[43mTF_SessionRun_wrapper\\x1b[49m\\x1b[43m(\\x1b[49m\\x1b[38;5;28;43mself\\x1b[39;49m\\x1b[38;5;241;43m.\\x1b[39;49m\\x1b[43m_session\\x1b[49m\\x1b[43m,\\x1b[49m\\x1b[43m \\x1b[49m\\x1b[43moptions\\x1b[49m\\x1b[43m,\\x1b[49m\\x1b[43m \\x1b[49m\\x1b[43mfeed_dict\\x1b[49m\\x1b[43m,\\x1b[49m\\n\\x1b[1;32m   1455\\x1b[0m \\x1b[43m                                          \\x1b[49m\\x1b[43mfetch_list\\x1b[49m\\x1b[43m,\\x1b[49m\\x1b[43m \\x1b[49m\\x1b[43mtarget_list\\x1b[49m\\x1b[43m,\\x1b[49m\\n\\x1b[1;32m   1456\\x1b[0m \\x1b[43m                                          \\x1b[49m\\x1b[43mrun_metadata\\x1b[49m\\x1b[43m)\\x1b[49m\\n\\n\\x1b[0;31mKeyboardInterrupt\\x1b[0m: \\nKeyboardInterrupt: \\n')>\n",
      "Traceback (most recent call last):\n",
      "  File \"/home/batlab/miniconda3/envs/sniffbat/lib/python3.10/site-packages/nbclient/client.py\", line 599, in setup_kernel\n",
      "    yield\n",
      "  File \"/home/batlab/miniconda3/envs/sniffbat/lib/python3.10/site-packages/papermill/clientwrap.py\", line 45, in execute\n",
      "    self.papermill_execute_cells()\n",
      "  File \"/home/batlab/miniconda3/envs/sniffbat/lib/python3.10/site-packages/papermill/clientwrap.py\", line 72, in papermill_execute_cells\n",
      "    self.execute_cell(cell, index)\n",
      "  File \"/home/batlab/miniconda3/envs/sniffbat/lib/python3.10/site-packages/nbclient/util.py\", line 85, in wrapped\n",
      "    return just_run(coro(*args, **kwargs))\n",
      "  File \"/home/batlab/miniconda3/envs/sniffbat/lib/python3.10/site-packages/nbclient/util.py\", line 60, in just_run\n",
      "    return loop.run_until_complete(coro)\n",
      "  File \"/home/batlab/miniconda3/envs/sniffbat/lib/python3.10/site-packages/nest_asyncio.py\", line 84, in run_until_complete\n",
      "    self._run_once()\n",
      "  File \"/home/batlab/miniconda3/envs/sniffbat/lib/python3.10/site-packages/nest_asyncio.py\", line 107, in _run_once\n",
      "    event_list = self._selector.select(timeout)\n",
      "  File \"/home/batlab/miniconda3/envs/sniffbat/lib/python3.10/selectors.py\", line 469, in select\n",
      "    fd_event_list = self._selector.poll(timeout, max_ev)\n",
      "KeyboardInterrupt\n",
      "\n",
      "During handling of the above exception, another exception occurred:\n",
      "\n",
      "Traceback (most recent call last):\n",
      "  File \"/home/batlab/miniconda3/envs/sniffbat/lib/python3.10/asyncio/tasks.py\", line 232, in __step\n",
      "    result = coro.send(None)\n",
      "  File \"/home/batlab/miniconda3/envs/sniffbat/lib/python3.10/site-packages/nbclient/client.py\", line 1019, in async_execute_cell\n",
      "    await self._check_raise_for_error(cell, cell_index, exec_reply)\n",
      "  File \"/home/batlab/miniconda3/envs/sniffbat/lib/python3.10/site-packages/nbclient/client.py\", line 913, in _check_raise_for_error\n",
      "    raise CellExecutionError.from_cell_and_msg(cell, exec_reply_content)\n",
      "nbclient.exceptions.CellExecutionError: An error occurred while executing the following cell:\n",
      "------------------\n",
      "deeplabcut.analyze_videos(config_path, \n",
      "                          [video_path], \n",
      "                          videotype='.mp4', \n",
      "                          identity_only=True, \n",
      "                          auto_track=False)\n",
      "------------------\n",
      "\n",
      "\u001b[0;31m---------------------------------------------------------------------------\u001b[0m\n",
      "\u001b[0;31mKeyboardInterrupt\u001b[0m                         Traceback (most recent call last)\n",
      "Cell \u001b[0;32mIn [8], line 1\u001b[0m\n",
      "\u001b[0;32m----> 1\u001b[0m \u001b[43mdeeplabcut\u001b[49m\u001b[38;5;241;43m.\u001b[39;49m\u001b[43manalyze_videos\u001b[49m\u001b[43m(\u001b[49m\u001b[43mconfig_path\u001b[49m\u001b[43m,\u001b[49m\u001b[43m \u001b[49m\n",
      "\u001b[1;32m      2\u001b[0m \u001b[43m                          \u001b[49m\u001b[43m[\u001b[49m\u001b[43mvideo_path\u001b[49m\u001b[43m]\u001b[49m\u001b[43m,\u001b[49m\u001b[43m \u001b[49m\n",
      "\u001b[1;32m      3\u001b[0m \u001b[43m                          \u001b[49m\u001b[43mvideotype\u001b[49m\u001b[38;5;241;43m=\u001b[39;49m\u001b[38;5;124;43m'\u001b[39;49m\u001b[38;5;124;43m.mp4\u001b[39;49m\u001b[38;5;124;43m'\u001b[39;49m\u001b[43m,\u001b[49m\u001b[43m \u001b[49m\n",
      "\u001b[1;32m      4\u001b[0m \u001b[43m                          \u001b[49m\u001b[43midentity_only\u001b[49m\u001b[38;5;241;43m=\u001b[39;49m\u001b[38;5;28;43;01mTrue\u001b[39;49;00m\u001b[43m,\u001b[49m\u001b[43m \u001b[49m\n",
      "\u001b[1;32m      5\u001b[0m \u001b[43m                          \u001b[49m\u001b[43mauto_track\u001b[49m\u001b[38;5;241;43m=\u001b[39;49m\u001b[38;5;28;43;01mFalse\u001b[39;49;00m\u001b[43m)\u001b[49m\n",
      "\n",
      "File \u001b[0;32m~/miniconda3/envs/sniffbat/lib/python3.10/site-packages/deeplabcut/pose_estimation_tensorflow/predict_videos.py:626\u001b[0m, in \u001b[0;36manalyze_videos\u001b[0;34m(config, videos, videotype, shuffle, trainingsetindex, gputouse, save_as_csv, in_random_order, destfolder, batchsize, cropping, TFGPUinference, dynamic, modelprefix, robust_nframes, allow_growth, use_shelve, auto_track, n_tracks, calibrate, identity_only, use_openvino)\u001b[0m\n",
      "\u001b[1;32m    621\u001b[0m \u001b[38;5;28;01mfrom\u001b[39;00m \u001b[38;5;21;01mdeeplabcut\u001b[39;00m\u001b[38;5;21;01m.\u001b[39;00m\u001b[38;5;21;01mpose_estimation_tensorflow\u001b[39;00m\u001b[38;5;21;01m.\u001b[39;00m\u001b[38;5;21;01mpredict_multianimal\u001b[39;00m \u001b[38;5;28;01mimport\u001b[39;00m (\n",
      "\u001b[1;32m    622\u001b[0m     AnalyzeMultiAnimalVideo,\n",
      "\u001b[1;32m    623\u001b[0m )\n",
      "\u001b[1;32m    625\u001b[0m \u001b[38;5;28;01mfor\u001b[39;00m video \u001b[38;5;129;01min\u001b[39;00m Videos:\n",
      "\u001b[0;32m--> 626\u001b[0m     \u001b[43mAnalyzeMultiAnimalVideo\u001b[49m\u001b[43m(\u001b[49m\n",
      "\u001b[1;32m    627\u001b[0m \u001b[43m        \u001b[49m\u001b[43mvideo\u001b[49m\u001b[43m,\u001b[49m\n",
      "\u001b[1;32m    628\u001b[0m \u001b[43m        \u001b[49m\u001b[43mDLCscorer\u001b[49m\u001b[43m,\u001b[49m\n",
      "\u001b[1;32m    629\u001b[0m \u001b[43m        \u001b[49m\u001b[43mtrainFraction\u001b[49m\u001b[43m,\u001b[49m\n",
      "\u001b[1;32m    630\u001b[0m \u001b[43m        \u001b[49m\u001b[43mcfg\u001b[49m\u001b[43m,\u001b[49m\n",
      "\u001b[1;32m    631\u001b[0m \u001b[43m        \u001b[49m\u001b[43mdlc_cfg\u001b[49m\u001b[43m,\u001b[49m\n",
      "\u001b[1;32m    632\u001b[0m \u001b[43m        \u001b[49m\u001b[43msess\u001b[49m\u001b[43m,\u001b[49m\n",
      "\u001b[1;32m    633\u001b[0m \u001b[43m        \u001b[49m\u001b[43minputs\u001b[49m\u001b[43m,\u001b[49m\n",
      "\u001b[1;32m    634\u001b[0m \u001b[43m        \u001b[49m\u001b[43moutputs\u001b[49m\u001b[43m,\u001b[49m\n",
      "\u001b[1;32m    635\u001b[0m \u001b[43m        \u001b[49m\u001b[43mdestfolder\u001b[49m\u001b[43m,\u001b[49m\n",
      "\u001b[1;32m    636\u001b[0m \u001b[43m        \u001b[49m\u001b[43mrobust_nframes\u001b[49m\u001b[38;5;241;43m=\u001b[39;49m\u001b[43mrobust_nframes\u001b[49m\u001b[43m,\u001b[49m\n",
      "\u001b[1;32m    637\u001b[0m \u001b[43m        \u001b[49m\u001b[43muse_shelve\u001b[49m\u001b[38;5;241;43m=\u001b[39;49m\u001b[43muse_shelve\u001b[49m\u001b[43m,\u001b[49m\n",
      "\u001b[1;32m    638\u001b[0m \u001b[43m    \u001b[49m\u001b[43m)\u001b[49m\n",
      "\u001b[1;32m    639\u001b[0m     \u001b[38;5;28;01mif\u001b[39;00m auto_track:  \u001b[38;5;66;03m# tracker type is taken from default in cfg\u001b[39;00m\n",
      "\u001b[1;32m    640\u001b[0m         convert_detections2tracklets(\n",
      "\u001b[1;32m    641\u001b[0m             config,\n",
      "\u001b[1;32m    642\u001b[0m             [video],\n",
      "\u001b[0;32m   (...)\u001b[0m\n",
      "\u001b[1;32m    649\u001b[0m             identity_only\u001b[38;5;241m=\u001b[39midentity_only,\n",
      "\u001b[1;32m    650\u001b[0m         )\n",
      "\n",
      "File \u001b[0;32m~/miniconda3/envs/sniffbat/lib/python3.10/site-packages/deeplabcut/pose_estimation_tensorflow/predict_multianimal.py:172\u001b[0m, in \u001b[0;36mAnalyzeMultiAnimalVideo\u001b[0;34m(video, DLCscorer, trainFraction, cfg, dlc_cfg, sess, inputs, outputs, destfolder, robust_nframes, use_shelve)\u001b[0m\n",
      "\u001b[1;32m    170\u001b[0m     shelf_path \u001b[38;5;241m=\u001b[39m \u001b[38;5;124m\"\u001b[39m\u001b[38;5;124m\"\u001b[39m\n",
      "\u001b[1;32m    171\u001b[0m \u001b[38;5;28;01mif\u001b[39;00m \u001b[38;5;28mint\u001b[39m(dlc_cfg[\u001b[38;5;124m\"\u001b[39m\u001b[38;5;124mbatch_size\u001b[39m\u001b[38;5;124m\"\u001b[39m]) \u001b[38;5;241m>\u001b[39m \u001b[38;5;241m1\u001b[39m:\n",
      "\u001b[0;32m--> 172\u001b[0m     PredicteData, nframes \u001b[38;5;241m=\u001b[39m \u001b[43mGetPoseandCostsF\u001b[49m\u001b[43m(\u001b[49m\n",
      "\u001b[1;32m    173\u001b[0m \u001b[43m        \u001b[49m\u001b[43mcfg\u001b[49m\u001b[43m,\u001b[49m\n",
      "\u001b[1;32m    174\u001b[0m \u001b[43m        \u001b[49m\u001b[43mdlc_cfg\u001b[49m\u001b[43m,\u001b[49m\n",
      "\u001b[1;32m    175\u001b[0m \u001b[43m        \u001b[49m\u001b[43msess\u001b[49m\u001b[43m,\u001b[49m\n",
      "\u001b[1;32m    176\u001b[0m \u001b[43m        \u001b[49m\u001b[43minputs\u001b[49m\u001b[43m,\u001b[49m\n",
      "\u001b[1;32m    177\u001b[0m \u001b[43m        \u001b[49m\u001b[43moutputs\u001b[49m\u001b[43m,\u001b[49m\n",
      "\u001b[1;32m    178\u001b[0m \u001b[43m        \u001b[49m\u001b[43mvid\u001b[49m\u001b[43m,\u001b[49m\n",
      "\u001b[1;32m    179\u001b[0m \u001b[43m        \u001b[49m\u001b[43mnframes\u001b[49m\u001b[43m,\u001b[49m\n",
      "\u001b[1;32m    180\u001b[0m \u001b[43m        \u001b[49m\u001b[38;5;28;43mint\u001b[39;49m\u001b[43m(\u001b[49m\u001b[43mdlc_cfg\u001b[49m\u001b[43m[\u001b[49m\u001b[38;5;124;43m\"\u001b[39;49m\u001b[38;5;124;43mbatch_size\u001b[39;49m\u001b[38;5;124;43m\"\u001b[39;49m\u001b[43m]\u001b[49m\u001b[43m)\u001b[49m\u001b[43m,\u001b[49m\n",
      "\u001b[1;32m    181\u001b[0m \u001b[43m        \u001b[49m\u001b[43mshelf_path\u001b[49m\u001b[43m,\u001b[49m\n",
      "\u001b[1;32m    182\u001b[0m \u001b[43m    \u001b[49m\u001b[43m)\u001b[49m\n",
      "\u001b[1;32m    183\u001b[0m \u001b[38;5;28;01melse\u001b[39;00m:\n",
      "\u001b[1;32m    184\u001b[0m     PredicteData, nframes \u001b[38;5;241m=\u001b[39m GetPoseandCostsS(\n",
      "\u001b[1;32m    185\u001b[0m         cfg,\n",
      "\u001b[1;32m    186\u001b[0m         dlc_cfg,\n",
      "\u001b[0;32m   (...)\u001b[0m\n",
      "\u001b[1;32m    192\u001b[0m         shelf_path,\n",
      "\u001b[1;32m    193\u001b[0m     )\n",
      "\n",
      "File \u001b[0;32m~/miniconda3/envs/sniffbat/lib/python3.10/site-packages/deeplabcut/pose_estimation_tensorflow/predict_multianimal.py:428\u001b[0m, in \u001b[0;36mGetPoseandCostsF\u001b[0;34m(cfg, dlc_cfg, sess, inputs, outputs, cap, nframes, batchsize, shelf_path)\u001b[0m\n",
      "\u001b[1;32m    426\u001b[0m inds\u001b[38;5;241m.\u001b[39mappend(counter)\n",
      "\u001b[1;32m    427\u001b[0m \u001b[38;5;28;01mif\u001b[39;00m batch_ind \u001b[38;5;241m==\u001b[39m batchsize \u001b[38;5;241m-\u001b[39m \u001b[38;5;241m1\u001b[39m:\n",
      "\u001b[0;32m--> 428\u001b[0m     D \u001b[38;5;241m=\u001b[39m \u001b[43mpredict\u001b[49m\u001b[38;5;241;43m.\u001b[39;49m\u001b[43mpredict_batched_peaks_and_costs\u001b[49m\u001b[43m(\u001b[49m\n",
      "\u001b[1;32m    429\u001b[0m \u001b[43m        \u001b[49m\u001b[43mdlc_cfg\u001b[49m\u001b[43m,\u001b[49m\n",
      "\u001b[1;32m    430\u001b[0m \u001b[43m        \u001b[49m\u001b[43mframes\u001b[49m\u001b[43m,\u001b[49m\n",
      "\u001b[1;32m    431\u001b[0m \u001b[43m        \u001b[49m\u001b[43msess\u001b[49m\u001b[43m,\u001b[49m\n",
      "\u001b[1;32m    432\u001b[0m \u001b[43m        \u001b[49m\u001b[43minputs\u001b[49m\u001b[43m,\u001b[49m\n",
      "\u001b[1;32m    433\u001b[0m \u001b[43m        \u001b[49m\u001b[43moutputs\u001b[49m\u001b[43m,\u001b[49m\n",
      "\u001b[1;32m    434\u001b[0m \u001b[43m    \u001b[49m\u001b[43m)\u001b[49m\n",
      "\u001b[1;32m    435\u001b[0m     \u001b[38;5;28;01mfor\u001b[39;00m ind, data \u001b[38;5;129;01min\u001b[39;00m \u001b[38;5;28mzip\u001b[39m(inds, D):\n",
      "\u001b[1;32m    436\u001b[0m         db[\u001b[38;5;124m\"\u001b[39m\u001b[38;5;124mframe\u001b[39m\u001b[38;5;124m\"\u001b[39m \u001b[38;5;241m+\u001b[39m \u001b[38;5;28mstr\u001b[39m(ind)\u001b[38;5;241m.\u001b[39mzfill(strwidth)] \u001b[38;5;241m=\u001b[39m data\n",
      "\n",
      "File \u001b[0;32m~/miniconda3/envs/sniffbat/lib/python3.10/site-packages/deeplabcut/pose_estimation_tensorflow/core/predict_multianimal.py:219\u001b[0m, in \u001b[0;36mpredict_batched_peaks_and_costs\u001b[0;34m(pose_cfg, images_batch, sess, inputs, outputs, peaks_gt, n_points, n_decimals, extra_dict)\u001b[0m\n",
      "\u001b[1;32m    216\u001b[0m \u001b[38;5;28;01mif\u001b[39;00m extra_dict:\n",
      "\u001b[1;32m    217\u001b[0m     features \u001b[38;5;241m=\u001b[39m sess\u001b[38;5;241m.\u001b[39mrun(extra_dict[\u001b[38;5;124m\"\u001b[39m\u001b[38;5;124mfeatures\u001b[39m\u001b[38;5;124m\"\u001b[39m], feed_dict\u001b[38;5;241m=\u001b[39m{inputs: images_batch})\n",
      "\u001b[0;32m--> 219\u001b[0m scmaps, locrefs, \u001b[38;5;241m*\u001b[39mpafs, peaks \u001b[38;5;241m=\u001b[39m \u001b[43msess\u001b[49m\u001b[38;5;241;43m.\u001b[39;49m\u001b[43mrun\u001b[49m\u001b[43m(\u001b[49m\u001b[43moutputs\u001b[49m\u001b[43m,\u001b[49m\u001b[43m \u001b[49m\u001b[43mfeed_dict\u001b[49m\u001b[38;5;241;43m=\u001b[39;49m\u001b[43m{\u001b[49m\u001b[43minputs\u001b[49m\u001b[43m:\u001b[49m\u001b[43m \u001b[49m\u001b[43mimages_batch\u001b[49m\u001b[43m}\u001b[49m\u001b[43m)\u001b[49m\n",
      "\u001b[1;32m    220\u001b[0m \u001b[38;5;28;01mif\u001b[39;00m \u001b[38;5;241m~\u001b[39mnp\u001b[38;5;241m.\u001b[39many(peaks):\n",
      "\u001b[1;32m    221\u001b[0m     \u001b[38;5;28;01mreturn\u001b[39;00m []\n",
      "\n",
      "File \u001b[0;32m~/miniconda3/envs/sniffbat/lib/python3.10/site-packages/tensorflow/python/client/session.py:968\u001b[0m, in \u001b[0;36mBaseSession.run\u001b[0;34m(self, fetches, feed_dict, options, run_metadata)\u001b[0m\n",
      "\u001b[1;32m    965\u001b[0m run_metadata_ptr \u001b[38;5;241m=\u001b[39m tf_session\u001b[38;5;241m.\u001b[39mTF_NewBuffer() \u001b[38;5;28;01mif\u001b[39;00m run_metadata \u001b[38;5;28;01melse\u001b[39;00m \u001b[38;5;28;01mNone\u001b[39;00m\n",
      "\u001b[1;32m    967\u001b[0m \u001b[38;5;28;01mtry\u001b[39;00m:\n",
      "\u001b[0;32m--> 968\u001b[0m   result \u001b[38;5;241m=\u001b[39m \u001b[38;5;28;43mself\u001b[39;49m\u001b[38;5;241;43m.\u001b[39;49m\u001b[43m_run\u001b[49m\u001b[43m(\u001b[49m\u001b[38;5;28;43;01mNone\u001b[39;49;00m\u001b[43m,\u001b[49m\u001b[43m \u001b[49m\u001b[43mfetches\u001b[49m\u001b[43m,\u001b[49m\u001b[43m \u001b[49m\u001b[43mfeed_dict\u001b[49m\u001b[43m,\u001b[49m\u001b[43m \u001b[49m\u001b[43moptions_ptr\u001b[49m\u001b[43m,\u001b[49m\n",
      "\u001b[1;32m    969\u001b[0m \u001b[43m                     \u001b[49m\u001b[43mrun_metadata_ptr\u001b[49m\u001b[43m)\u001b[49m\n",
      "\u001b[1;32m    970\u001b[0m   \u001b[38;5;28;01mif\u001b[39;00m run_metadata:\n",
      "\u001b[1;32m    971\u001b[0m     proto_data \u001b[38;5;241m=\u001b[39m tf_session\u001b[38;5;241m.\u001b[39mTF_GetBuffer(run_metadata_ptr)\n",
      "\n",
      "File \u001b[0;32m~/miniconda3/envs/sniffbat/lib/python3.10/site-packages/tensorflow/python/client/session.py:1191\u001b[0m, in \u001b[0;36mBaseSession._run\u001b[0;34m(self, handle, fetches, feed_dict, options, run_metadata)\u001b[0m\n",
      "\u001b[1;32m   1188\u001b[0m \u001b[38;5;66;03m# We only want to really perform the run if fetches or targets are provided,\u001b[39;00m\n",
      "\u001b[1;32m   1189\u001b[0m \u001b[38;5;66;03m# or if the call is a partial run that specifies feeds.\u001b[39;00m\n",
      "\u001b[1;32m   1190\u001b[0m \u001b[38;5;28;01mif\u001b[39;00m final_fetches \u001b[38;5;129;01mor\u001b[39;00m final_targets \u001b[38;5;129;01mor\u001b[39;00m (handle \u001b[38;5;129;01mand\u001b[39;00m feed_dict_tensor):\n",
      "\u001b[0;32m-> 1191\u001b[0m   results \u001b[38;5;241m=\u001b[39m \u001b[38;5;28;43mself\u001b[39;49m\u001b[38;5;241;43m.\u001b[39;49m\u001b[43m_do_run\u001b[49m\u001b[43m(\u001b[49m\u001b[43mhandle\u001b[49m\u001b[43m,\u001b[49m\u001b[43m \u001b[49m\u001b[43mfinal_targets\u001b[49m\u001b[43m,\u001b[49m\u001b[43m \u001b[49m\u001b[43mfinal_fetches\u001b[49m\u001b[43m,\u001b[49m\n",
      "\u001b[1;32m   1192\u001b[0m \u001b[43m                         \u001b[49m\u001b[43mfeed_dict_tensor\u001b[49m\u001b[43m,\u001b[49m\u001b[43m \u001b[49m\u001b[43moptions\u001b[49m\u001b[43m,\u001b[49m\u001b[43m \u001b[49m\u001b[43mrun_metadata\u001b[49m\u001b[43m)\u001b[49m\n",
      "\u001b[1;32m   1193\u001b[0m \u001b[38;5;28;01melse\u001b[39;00m:\n",
      "\u001b[1;32m   1194\u001b[0m   results \u001b[38;5;241m=\u001b[39m []\n",
      "\n",
      "File \u001b[0;32m~/miniconda3/envs/sniffbat/lib/python3.10/site-packages/tensorflow/python/client/session.py:1371\u001b[0m, in \u001b[0;36mBaseSession._do_run\u001b[0;34m(self, handle, target_list, fetch_list, feed_dict, options, run_metadata)\u001b[0m\n",
      "\u001b[1;32m   1368\u001b[0m   \u001b[38;5;28;01mreturn\u001b[39;00m \u001b[38;5;28mself\u001b[39m\u001b[38;5;241m.\u001b[39m_call_tf_sessionprun(handle, feed_dict, fetch_list)\n",
      "\u001b[1;32m   1370\u001b[0m \u001b[38;5;28;01mif\u001b[39;00m handle \u001b[38;5;129;01mis\u001b[39;00m \u001b[38;5;28;01mNone\u001b[39;00m:\n",
      "\u001b[0;32m-> 1371\u001b[0m   \u001b[38;5;28;01mreturn\u001b[39;00m \u001b[38;5;28;43mself\u001b[39;49m\u001b[38;5;241;43m.\u001b[39;49m\u001b[43m_do_call\u001b[49m\u001b[43m(\u001b[49m\u001b[43m_run_fn\u001b[49m\u001b[43m,\u001b[49m\u001b[43m \u001b[49m\u001b[43mfeeds\u001b[49m\u001b[43m,\u001b[49m\u001b[43m \u001b[49m\u001b[43mfetches\u001b[49m\u001b[43m,\u001b[49m\u001b[43m \u001b[49m\u001b[43mtargets\u001b[49m\u001b[43m,\u001b[49m\u001b[43m \u001b[49m\u001b[43moptions\u001b[49m\u001b[43m,\u001b[49m\n",
      "\u001b[1;32m   1372\u001b[0m \u001b[43m                       \u001b[49m\u001b[43mrun_metadata\u001b[49m\u001b[43m)\u001b[49m\n",
      "\u001b[1;32m   1373\u001b[0m \u001b[38;5;28;01melse\u001b[39;00m:\n",
      "\u001b[1;32m   1374\u001b[0m   \u001b[38;5;28;01mreturn\u001b[39;00m \u001b[38;5;28mself\u001b[39m\u001b[38;5;241m.\u001b[39m_do_call(_prun_fn, handle, feeds, fetches)\n",
      "\n",
      "File \u001b[0;32m~/miniconda3/envs/sniffbat/lib/python3.10/site-packages/tensorflow/python/client/session.py:1378\u001b[0m, in \u001b[0;36mBaseSession._do_call\u001b[0;34m(self, fn, *args)\u001b[0m\n",
      "\u001b[1;32m   1376\u001b[0m \u001b[38;5;28;01mdef\u001b[39;00m \u001b[38;5;21m_do_call\u001b[39m(\u001b[38;5;28mself\u001b[39m, fn, \u001b[38;5;241m*\u001b[39margs):\n",
      "\u001b[1;32m   1377\u001b[0m   \u001b[38;5;28;01mtry\u001b[39;00m:\n",
      "\u001b[0;32m-> 1378\u001b[0m     \u001b[38;5;28;01mreturn\u001b[39;00m \u001b[43mfn\u001b[49m\u001b[43m(\u001b[49m\u001b[38;5;241;43m*\u001b[39;49m\u001b[43margs\u001b[49m\u001b[43m)\u001b[49m\n",
      "\u001b[1;32m   1379\u001b[0m   \u001b[38;5;28;01mexcept\u001b[39;00m errors\u001b[38;5;241m.\u001b[39mOpError \u001b[38;5;28;01mas\u001b[39;00m e:\n",
      "\u001b[1;32m   1380\u001b[0m     message \u001b[38;5;241m=\u001b[39m compat\u001b[38;5;241m.\u001b[39mas_text(e\u001b[38;5;241m.\u001b[39mmessage)\n",
      "\n",
      "File \u001b[0;32m~/miniconda3/envs/sniffbat/lib/python3.10/site-packages/tensorflow/python/client/session.py:1361\u001b[0m, in \u001b[0;36mBaseSession._do_run.<locals>._run_fn\u001b[0;34m(feed_dict, fetch_list, target_list, options, run_metadata)\u001b[0m\n",
      "\u001b[1;32m   1358\u001b[0m \u001b[38;5;28;01mdef\u001b[39;00m \u001b[38;5;21m_run_fn\u001b[39m(feed_dict, fetch_list, target_list, options, run_metadata):\n",
      "\u001b[1;32m   1359\u001b[0m   \u001b[38;5;66;03m# Ensure any changes to the graph are reflected in the runtime.\u001b[39;00m\n",
      "\u001b[1;32m   1360\u001b[0m   \u001b[38;5;28mself\u001b[39m\u001b[38;5;241m.\u001b[39m_extend_graph()\n",
      "\u001b[0;32m-> 1361\u001b[0m   \u001b[38;5;28;01mreturn\u001b[39;00m \u001b[38;5;28;43mself\u001b[39;49m\u001b[38;5;241;43m.\u001b[39;49m\u001b[43m_call_tf_sessionrun\u001b[49m\u001b[43m(\u001b[49m\u001b[43moptions\u001b[49m\u001b[43m,\u001b[49m\u001b[43m \u001b[49m\u001b[43mfeed_dict\u001b[49m\u001b[43m,\u001b[49m\u001b[43m \u001b[49m\u001b[43mfetch_list\u001b[49m\u001b[43m,\u001b[49m\n",
      "\u001b[1;32m   1362\u001b[0m \u001b[43m                                  \u001b[49m\u001b[43mtarget_list\u001b[49m\u001b[43m,\u001b[49m\u001b[43m \u001b[49m\u001b[43mrun_metadata\u001b[49m\u001b[43m)\u001b[49m\n",
      "\n",
      "File \u001b[0;32m~/miniconda3/envs/sniffbat/lib/python3.10/site-packages/tensorflow/python/client/session.py:1454\u001b[0m, in \u001b[0;36mBaseSession._call_tf_sessionrun\u001b[0;34m(self, options, feed_dict, fetch_list, target_list, run_metadata)\u001b[0m\n",
      "\u001b[1;32m   1452\u001b[0m \u001b[38;5;28;01mdef\u001b[39;00m \u001b[38;5;21m_call_tf_sessionrun\u001b[39m(\u001b[38;5;28mself\u001b[39m, options, feed_dict, fetch_list, target_list,\n",
      "\u001b[1;32m   1453\u001b[0m                         run_metadata):\n",
      "\u001b[0;32m-> 1454\u001b[0m   \u001b[38;5;28;01mreturn\u001b[39;00m \u001b[43mtf_session\u001b[49m\u001b[38;5;241;43m.\u001b[39;49m\u001b[43mTF_SessionRun_wrapper\u001b[49m\u001b[43m(\u001b[49m\u001b[38;5;28;43mself\u001b[39;49m\u001b[38;5;241;43m.\u001b[39;49m\u001b[43m_session\u001b[49m\u001b[43m,\u001b[49m\u001b[43m \u001b[49m\u001b[43moptions\u001b[49m\u001b[43m,\u001b[49m\u001b[43m \u001b[49m\u001b[43mfeed_dict\u001b[49m\u001b[43m,\u001b[49m\n",
      "\u001b[1;32m   1455\u001b[0m \u001b[43m                                          \u001b[49m\u001b[43mfetch_list\u001b[49m\u001b[43m,\u001b[49m\u001b[43m \u001b[49m\u001b[43mtarget_list\u001b[49m\u001b[43m,\u001b[49m\n",
      "\u001b[1;32m   1456\u001b[0m \u001b[43m                                          \u001b[49m\u001b[43mrun_metadata\u001b[49m\u001b[43m)\u001b[49m\n",
      "\n",
      "\u001b[0;31mKeyboardInterrupt\u001b[0m: \n",
      "KeyboardInterrupt: \n",
      "\n"
     ]
    },
    {
     "ename": "PapermillExecutionError",
     "evalue": "\n---------------------------------------------------------------------------\nException encountered at \"In [34]\":\n---------------------------------------------------------------------------\nNameError                                 Traceback (most recent call last)\nCell In [34], line 1\n----> 1 filt_bat_c3d_ransac[:,0,0]\n\nNameError: name 'filt_bat_c3d_ransac' is not defined\n",
     "output_type": "error",
     "traceback": [
      "\u001b[0;31m---------------------------------------------------------------------------\u001b[0m",
      "\u001b[0;31mPapermillExecutionError\u001b[0m                   Traceback (most recent call last)",
      "Cell \u001b[0;32mIn [23], line 2\u001b[0m\n\u001b[1;32m      1\u001b[0m \u001b[38;5;28;01mfor\u001b[39;00m date \u001b[38;5;129;01min\u001b[39;00m [\u001b[38;5;124m'\u001b[39m\u001b[38;5;124m221128\u001b[39m\u001b[38;5;124m'\u001b[39m]:\n\u001b[0;32m----> 2\u001b[0m     \u001b[43mexecute_notebook\u001b[49m\u001b[43m(\u001b[49m\u001b[43mpose_tracking_nb\u001b[49m\u001b[43m,\u001b[49m\u001b[43m \u001b[49m\u001b[43mbat_id\u001b[49m\u001b[43m,\u001b[49m\u001b[43m \u001b[49m\u001b[43mdate\u001b[49m\u001b[43m)\u001b[49m\n",
      "Cell \u001b[0;32mIn [12], line 2\u001b[0m, in \u001b[0;36mexecute_notebook\u001b[0;34m(nb_path, bat_id, date)\u001b[0m\n\u001b[1;32m      1\u001b[0m \u001b[38;5;28;01mdef\u001b[39;00m \u001b[38;5;21mexecute_notebook\u001b[39m(nb_path, bat_id, date):\n\u001b[0;32m----> 2\u001b[0m     \u001b[43mpm\u001b[49m\u001b[38;5;241;43m.\u001b[39;49m\u001b[43mexecute_notebook\u001b[49m\u001b[43m(\u001b[49m\n\u001b[1;32m      3\u001b[0m \u001b[43m       \u001b[49m\u001b[43mnb_path\u001b[49m\u001b[43m,\u001b[49m\n\u001b[1;32m      4\u001b[0m \u001b[43m       \u001b[49m\u001b[43mos\u001b[49m\u001b[38;5;241;43m.\u001b[39;49m\u001b[43mpath\u001b[49m\u001b[38;5;241;43m.\u001b[39;49m\u001b[43mjoin\u001b[49m\u001b[43m(\u001b[49m\u001b[38;5;124;43m'\u001b[39;49m\u001b[38;5;124;43mnotebook_snapshots\u001b[39;49m\u001b[38;5;124;43m'\u001b[39;49m\u001b[43m,\u001b[49m\u001b[43m \u001b[49m\u001b[38;5;124;43mf\u001b[39;49m\u001b[38;5;124;43m'\u001b[39;49m\u001b[38;5;132;43;01m{\u001b[39;49;00m\u001b[43mbat_id\u001b[49m\u001b[38;5;132;43;01m}\u001b[39;49;00m\u001b[38;5;124;43m_\u001b[39;49m\u001b[38;5;132;43;01m{\u001b[39;49;00m\u001b[43mdate\u001b[49m\u001b[38;5;132;43;01m}\u001b[39;49;00m\u001b[38;5;124;43m_\u001b[39;49m\u001b[38;5;132;43;01m{\u001b[39;49;00m\u001b[43mnb_path\u001b[49m\u001b[38;5;132;43;01m}\u001b[39;49;00m\u001b[38;5;124;43m'\u001b[39;49m\u001b[43m)\u001b[49m\u001b[43m,\u001b[49m\n\u001b[1;32m      5\u001b[0m \u001b[43m       \u001b[49m\u001b[43mparameters\u001b[49m\u001b[38;5;241;43m=\u001b[39;49m\u001b[38;5;28;43mdict\u001b[39;49m\u001b[43m(\u001b[49m\u001b[43mbat_id\u001b[49m\u001b[38;5;241;43m=\u001b[39;49m\u001b[43mbat_id\u001b[49m\u001b[43m,\u001b[49m\u001b[43m \u001b[49m\u001b[43mdate\u001b[49m\u001b[38;5;241;43m=\u001b[39;49m\u001b[43mdate\u001b[49m\u001b[43m)\u001b[49m\n\u001b[1;32m      6\u001b[0m \u001b[43m    \u001b[49m\u001b[43m)\u001b[49m\n",
      "File \u001b[0;32m~/miniconda3/envs/sniffbat/lib/python3.10/site-packages/papermill/execute.py:128\u001b[0m, in \u001b[0;36mexecute_notebook\u001b[0;34m(input_path, output_path, parameters, engine_name, request_save_on_cell_execute, prepare_only, kernel_name, language, progress_bar, log_output, stdout_file, stderr_file, start_timeout, report_mode, cwd, **engine_kwargs)\u001b[0m\n\u001b[1;32m    113\u001b[0m         nb \u001b[38;5;241m=\u001b[39m papermill_engines\u001b[38;5;241m.\u001b[39mexecute_notebook_with_engine(\n\u001b[1;32m    114\u001b[0m             engine_name,\n\u001b[1;32m    115\u001b[0m             nb,\n\u001b[0;32m   (...)\u001b[0m\n\u001b[1;32m    124\u001b[0m             \u001b[38;5;241m*\u001b[39m\u001b[38;5;241m*\u001b[39mengine_kwargs\n\u001b[1;32m    125\u001b[0m         )\n\u001b[1;32m    127\u001b[0m     \u001b[38;5;66;03m# Check for errors first (it saves on error before raising)\u001b[39;00m\n\u001b[0;32m--> 128\u001b[0m     \u001b[43mraise_for_execution_errors\u001b[49m\u001b[43m(\u001b[49m\u001b[43mnb\u001b[49m\u001b[43m,\u001b[49m\u001b[43m \u001b[49m\u001b[43moutput_path\u001b[49m\u001b[43m)\u001b[49m\n\u001b[1;32m    130\u001b[0m \u001b[38;5;66;03m# Write final output in case the engine didn't write it on cell completion.\u001b[39;00m\n\u001b[1;32m    131\u001b[0m write_ipynb(nb, output_path)\n",
      "File \u001b[0;32m~/miniconda3/envs/sniffbat/lib/python3.10/site-packages/papermill/execute.py:232\u001b[0m, in \u001b[0;36mraise_for_execution_errors\u001b[0;34m(nb, output_path)\u001b[0m\n\u001b[1;32m    229\u001b[0m nb\u001b[38;5;241m.\u001b[39mcells\u001b[38;5;241m.\u001b[39minsert(\u001b[38;5;241m0\u001b[39m, error_msg_cell)\n\u001b[1;32m    231\u001b[0m write_ipynb(nb, output_path)\n\u001b[0;32m--> 232\u001b[0m \u001b[38;5;28;01mraise\u001b[39;00m error\n",
      "\u001b[0;31mPapermillExecutionError\u001b[0m: \n---------------------------------------------------------------------------\nException encountered at \"In [34]\":\n---------------------------------------------------------------------------\nNameError                                 Traceback (most recent call last)\nCell In [34], line 1\n----> 1 filt_bat_c3d_ransac[:,0,0]\n\nNameError: name 'filt_bat_c3d_ransac' is not defined\n"
     ]
    }
   ],
   "source": [
    "for date in ['221202']:\n",
    "    execute_notebook(pose_tracking_nb, bat_id, date)"
   ]
  },
  {
   "cell_type": "code",
   "execution_count": 12,
   "id": "1e81d9c7",
   "metadata": {},
   "outputs": [
    {
     "name": "stderr",
     "output_type": "stream",
     "text": [
      "Black is not installed, parameters wont be formatted\n"
     ]
    },
    {
     "data": {
      "application/vnd.jupyter.widget-view+json": {
       "model_id": "b72c552ffe554ad88d7c9f38dff1d2a5",
       "version_major": 2,
       "version_minor": 0
      },
      "text/plain": [
       "Executing:   0%|          | 0/28 [00:00<?, ?cell/s]"
      ]
     },
     "metadata": {},
     "output_type": "display_data"
    },
    {
     "name": "stderr",
     "output_type": "stream",
     "text": [
      "Black is not installed, parameters wont be formatted\n"
     ]
    },
    {
     "data": {
      "application/vnd.jupyter.widget-view+json": {
       "model_id": "f4ebab8b57d74a62a75fab96a0c5861e",
       "version_major": 2,
       "version_minor": 0
      },
      "text/plain": [
       "Executing:   0%|          | 0/28 [00:00<?, ?cell/s]"
      ]
     },
     "metadata": {},
     "output_type": "display_data"
    },
    {
     "name": "stderr",
     "output_type": "stream",
     "text": [
      "Black is not installed, parameters wont be formatted\n"
     ]
    },
    {
     "data": {
      "application/vnd.jupyter.widget-view+json": {
       "model_id": "adbb322c98f04d719b44ba9b121c9cd8",
       "version_major": 2,
       "version_minor": 0
      },
      "text/plain": [
       "Executing:   0%|          | 0/28 [00:00<?, ?cell/s]"
      ]
     },
     "metadata": {},
     "output_type": "display_data"
    },
    {
     "name": "stderr",
     "output_type": "stream",
     "text": [
      "Black is not installed, parameters wont be formatted\n"
     ]
    },
    {
     "data": {
      "application/vnd.jupyter.widget-view+json": {
       "model_id": "2466f88214254903b25db77d53a038b9",
       "version_major": 2,
       "version_minor": 0
      },
      "text/plain": [
       "Executing:   0%|          | 0/28 [00:00<?, ?cell/s]"
      ]
     },
     "metadata": {},
     "output_type": "display_data"
    },
    {
     "name": "stderr",
     "output_type": "stream",
     "text": [
      "Black is not installed, parameters wont be formatted\n"
     ]
    },
    {
     "data": {
      "application/vnd.jupyter.widget-view+json": {
       "model_id": "463fb72ddf164f9c8fd7c9d853ddc2b9",
       "version_major": 2,
       "version_minor": 0
      },
      "text/plain": [
       "Executing:   0%|          | 0/28 [00:00<?, ?cell/s]"
      ]
     },
     "metadata": {},
     "output_type": "display_data"
    }
   ],
   "source": [
    "# for date in ['221129', '221122', '221123', '221124', '221126', '221125']:\n",
    "for date in ['221202', '221130','221123','221125', '221128']:\n",
    "    execute_notebook(\"Toroidal_HD_Tracking.ipynb\", bat_id, date)"
   ]
  },
  {
   "cell_type": "code",
   "execution_count": null,
   "id": "c1dd0f38",
   "metadata": {},
   "outputs": [],
   "source": []
  }
 ],
 "metadata": {
  "kernelspec": {
   "display_name": "Python 3 (ipykernel)",
   "language": "python",
   "name": "python3"
  },
  "language_info": {
   "codemirror_mode": {
    "name": "ipython",
    "version": 3
   },
   "file_extension": ".py",
   "mimetype": "text/x-python",
   "name": "python",
   "nbconvert_exporter": "python",
   "pygments_lexer": "ipython3",
   "version": "3.10.13"
  }
 },
 "nbformat": 4,
 "nbformat_minor": 5
}
